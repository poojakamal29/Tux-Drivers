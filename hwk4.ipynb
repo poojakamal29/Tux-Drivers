{
  "cells": [
    {
      "cell_type": "markdown",
      "metadata": {
        "id": "view-in-github",
        "colab_type": "text"
      },
      "source": [
        "<a href=\"https://colab.research.google.com/github/poojakamal29/Tux-Drivers/blob/master/hwk4.ipynb\" target=\"_parent\"><img src=\"https://colab.research.google.com/assets/colab-badge.svg\" alt=\"Open In Colab\"/></a>"
      ]
    },
    {
      "cell_type": "markdown",
      "metadata": {
        "id": "gau9xEXMGY8s"
      },
      "source": [
        "# CS 447 Homework 4 $-$ Dependency Parsing\n",
        "In this homework you will build a neural transition-based dependency parser, based off the paper <a href=\"https://nlp.stanford.edu/pubs/emnlp2014-depparser.pdf\">A Fast and Accurate Dependency Parser using Neural Networks</a>.\n",
        "\n",
        "The setup for a dependency parser is somewhat more sophisticated than tasks like classification or translation. Therfore, this homework contains many small functions that can be tested incrementally. In addition to Gradescope tests, we also provide substantial tests in the notebook that you can use to debug your code.\n",
        "\n",
        "<font color='green'><b>Hint:</b> We suggest that you work on this homework in <b>CPU</b> until you are ready to train. At that point, you should switch your runtime to <b>GPU</b>. You can do this by going to <TT>Runtime > Change Runtime Type</TT> and select \"GPU\" from the dropdown menu.\n",
        "* You will find it easier to debug on CPU, and the error messages will be more understandable.\n",
        "* Google monitors your GPU usage and will occasionally restrict GPU access if you use it too much. In these cases, you can either switch to a different Google account or wait for your access to be restored.</font>"
      ]
    },
    {
      "cell_type": "markdown",
      "metadata": {
        "id": "hJLXyMdr1Nxz"
      },
      "source": [
        "# Step 0: Provided Testing Functions\n",
        "\n",
        "The following cells set up the tests that you can use in the notebook. You should <b>not</b> edit any of these cells."
      ]
    },
    {
      "cell_type": "code",
      "execution_count": null,
      "metadata": {
        "id": "KvqfpNVH11S5"
      },
      "outputs": [],
      "source": [
        "### DO NOT EDIT ###\n",
        "\n",
        "if __name__ == '__main__':\n",
        "    import cloudpickle as cp\n",
        "    from urllib.request import urlopen\n",
        "\n",
        "    testing_bundle = cp.load(urlopen(\"https://drive.google.com/uc?export=download&id=1-9lWbXuXZYGjJWQRKD7um_83O-I3ER63\"))"
      ]
    },
    {
      "cell_type": "code",
      "execution_count": null,
      "metadata": {
        "id": "f1GQITfH1k_O"
      },
      "outputs": [],
      "source": [
        "### DO NOT EDIT ###\n",
        "\n",
        "def sanityCheck(test_fxn, i=None, test_bundle=None, to_print = 'all', do_return=False, display_sent=True, do_raise=True):\n",
        "    to_test = test_fxn.__name__ + (('_' + str(i)) if i is not None else '')\n",
        "    if test_fxn.__name__ not in {'get_gold_action', 'get_lc', 'get_rc', 'get_top3_stack_features', 'get_top3_buffer_features'}: assert i is not None\n",
        "    assert to_test in {'get_gold_action', 'get_lc', 'get_rc', 'get_top3_stack_features', 'get_top3_buffer_features', 'get_lc1_lc2_features_1',\n",
        "                       'get_lc1_lc2_features_2', 'get_rc1_rc2_features_1', 'get_rc1_rc2_features_2', 'get_llc_rrc_features_1', 'get_llc_rrc_features_2'}\n",
        "    assert to_print in {'all', 'incorrect', 'none'}\n",
        "    test_bundle = testing_bundle if test_bundle is None else test_bundle\n",
        "    sentences, configs, gold_actions, gold_features, _ = test_bundle\n",
        "    vocab = Vocabulary(sentences)\n",
        "    testsents = vocab.buildSentences(sentences)\n",
        "    sents_correct, printag = 0, None # printag will collect the first error you encounter (used in Gradescope)\n",
        "    for i in range(len(sentences)):\n",
        "\n",
        "        printsent = \"\" # printsent is full printout for this sentence (only needed when to_print != 'none')\n",
        "        sent, gold_deps = testsents[i][0], testsents[i][1]\n",
        "        if to_test == 'get_gold_action':\n",
        "            printsent += 'gold_dependencies: ' +str([str(arc) for arc in gold_deps.arcs]) + '\\n\\n'\n",
        "\n",
        "        for j in range(len(configs[i])):\n",
        "            # Manually create Stack, Buffer, Dependencies & ParserConfiguration objects from test case\n",
        "            stk, buf, deps = configs[i][j]\n",
        "            stack, buffer, dependencies = Stack([sent[idx] for idx in stk]), Buffer([sent[idx] for idx in buf]), Dependencies(vocab)\n",
        "            for arc in deps: dependencies.add(sent[arc[0]], sent[arc[1]], arc[2])\n",
        "            parser_config = ParserConfiguration(sent, vocab)\n",
        "            parser_config.stack, parser_config.buffer, parser_config.dependencies = stack, buffer, dependencies\n",
        "\n",
        "            if to_test == 'get_gold_action' or not (gold_actions[i][j] is None or gold_actions[i][j] == 'DONE'): # Don't need to test if Done or None when not testing get_gold_action\n",
        "\n",
        "                # Call the student code\n",
        "                arg = stack.get_si(1) if to_test in {'get_lc', 'get_rc'} else (int(to_test[-1]) if to_test[-1] in {'1', '2'} else None)\n",
        "                if to_test == 'get_gold_action': fxn = lambda: test_fxn(stack, buffer, gold_deps)\n",
        "                elif to_test in {'get_top3_stack_features', 'get_top3_buffer_features'}: fxn = lambda: test_fxn(parser_config)\n",
        "                else: fxn = lambda: test_fxn(parser_config, arg)\n",
        "                tt = to_test[:-2] if to_test[-1] in {'1', '2'} else to_test\n",
        "\n",
        "                exception=None\n",
        "                try:\n",
        "                    yours = fxn()\n",
        "                except Exception as e:\n",
        "                    yours = \"Raised Exception: \" + str(e)\n",
        "                    exception=e\n",
        "                correct = gold_actions[i][j] if to_test == 'get_gold_action' else gold_features[i][j][to_test]\n",
        "                fxn_name = 'get_gold_action(stack, buffer, gold_dependencies)' if to_test == 'get_gold_action'else  tt + ('(parser_config, 1)' if to_test not in to_test in {'get_lc', 'get_rc'} else '(parser_config, ' + str(arg) + ')')\n",
        "\n",
        "                if to_test in {'get_lc', 'get_rc'} and exception is None:\n",
        "                    if type(yours) != list or (len(yours) > 0 and type(yours[0]) != Arc):\n",
        "                        yours = 'Your ' + to_test + '(...) did not return a list of Arcs' # note: exact quote used below, so if need to change, change in both places\n",
        "                    else: yours = [str(arc) for arc in yours]\n",
        "                # if random.random() < 0.05: yours = [None, None, None, None, None, None] # simulate getting it wrong\n",
        "                is_correct = yours == correct\n",
        "\n",
        "                # Make the printouts!\n",
        "                printsent += 'Step ' + str(j+1) + ' | stack: ' + str([str(word) if to_test != 'get_gold_action' else word.word for word in stack]) + '\\tbuffer: ' + str([str(word) if to_test != 'get_gold_action' else word.word for word in buffer]) + (('\\tdependencies: ' + str([str(arc) for arc in dependencies.arcs])) if to_test != 'get_gold_action' else \"\") + '\\n'\n",
        "                printsent += '\\tTesting '+ fxn_name +':\\n'\n",
        "                printsent += '\\t\\tYour Result: ' + str(yours) + '\\t\\tCorrect Result: ' + str(correct) + ('\\t\\tCorrect!' if is_correct else \"\") + '\\n'\n",
        "                if not is_correct:\n",
        "                    printsent += '\\t\\tIncorrect! Halting parse of this sentence.\\n\\n'\n",
        "                    if printag is None:\n",
        "                        statement=yours if yours == 'Your ' + to_test + '(...) did not return a list of Arcs' else str(yours)[:20]+(\"... \" if len(str(yours)) > 20 else \"\")\n",
        "                        statement = \"Your first error (on a hidden test sentence): You returned \" + statement + \"; expected \" + str(correct) + \".\"\n",
        "                        printag = statement if exception is None else (statement, exception)\n",
        "                    if to_print != 'none':\n",
        "                        print(\"Testing Sentence \" + str(i+1) + '...')\n",
        "                        if display_sent: display_sentence(sentences[i])\n",
        "                        print(printsent)\n",
        "                        print('Test Sentence ' + str(i+1) + ' failed.')\n",
        "                        print(('\\n' + '-'*100 + '\\n'))\n",
        "                    if do_raise and exception is not None:\n",
        "                        raise exception\n",
        "                    break\n",
        "                else: printsent += '\\n'\n",
        "\n",
        "        else:\n",
        "            sents_correct += 1\n",
        "            if to_print == 'all':\n",
        "                print(\"Testing Sentence \" + str(i+1) + '...')\n",
        "                if display_sent: display_sentence(sentences[i])\n",
        "                print(printsent)\n",
        "                print('Test Sentence ' + str(i+1) + ' passed!')\n",
        "                print(('\\n' + '-'*100 + '\\n'))\n",
        "    score = sents_correct / len(sentences)\n",
        "    print(sents_correct, '/', len(sentences), '=', str(score*100)+'%', 'of test cases passed!')\n",
        "    if do_return:\n",
        "        return score, printag\n",
        "\n",
        "def sanityCheck_generate_training_examples(test_fxn, feat_extract = None, test_bundle=None, to_print='all', do_return=False, display_sent=True, do_raise=True):\n",
        "    assert test_fxn.__name__ == 'generate_training_examples' and (feat_extract is None or feat_extract.__name__ == 'extract_features')\n",
        "    test_bundle = testing_bundle if test_bundle is None else test_bundle\n",
        "    sentences, _, _, _, gold_examples = test_bundle\n",
        "    vocab = Vocabulary(sentences)\n",
        "    testsents = vocab.buildSentences(sentences)\n",
        "    sents_correct, printag = 0, None\n",
        "    for i in range(len(sentences)):\n",
        "        sent, gold_deps = testsents[i][0], testsents[i][1]\n",
        "        exception=None\n",
        "        try:\n",
        "            your_examples = test_fxn(sent, gold_deps, vocab, feat_extract=feat_extract if feat_extract is not None else lambda p: [])\n",
        "        except Exception as e:\n",
        "            your_examples = \"Raised Exception: \" + str(e)\n",
        "            exception=e\n",
        "        # if random.random() < 0.5: your_examples = [None, None, None, None, None, None, None, None] # simulate getting it wrong\n",
        "        is_correct = your_examples == gold_examples[i][0 if feat_extract == None else 1]\n",
        "        if to_print == 'all' or to_print == 'incorrect' and not is_correct:\n",
        "            print(\"Testing Sentence \" + str(i+1) + '...')\n",
        "            if display_sent: display_sentence(sentences[i])\n",
        "            print(\"sentence: \" + str([word.word for word in sent]) + '\\tgold_dependencies: ' + str([str(arc) for arc in gold_deps.arcs]))\n",
        "            print(\"\\tTesting generate_training_examples(sentence, gold_dependencies, vocab\" + ('' if feat_extract is None else ', feat_extract=extract_features') + \"):\")\n",
        "            print('\\t\\tYour Training Examples:   ', your_examples, '\\n\\t\\tCorrect Training Examples:', gold_examples[i][0 if feat_extract == None else 1])\n",
        "            print('\\t\\tCorrect!\\n\\n' if is_correct else '\\t\\tIncorrect!\\n\\n')\n",
        "        if not is_correct and printag is None:\n",
        "            statement = \"Your first error (on a hidden test sentence): You returned \" + str(your_examples)[0:20]+(\"... \" if len(str(your_examples)) > 20 else \"\") + \"; expected \" + str(gold_examples[i]) + \".\"\n",
        "            printag = statement if exception is None else (statement, exception)\n",
        "        if to_print == 'all' or to_print == 'incorrect' and not is_correct:\n",
        "            print(('Test Sentence ' + str(i+1) + ' passed!') if is_correct else ('Test Sentence ' + str(i+1) + ' failed.'))\n",
        "            print('\\n'+ '-'*100, '\\n')\n",
        "        if is_correct: sents_correct += 1\n",
        "        if do_raise and exception is not None:\n",
        "            raise exception\n",
        "\n",
        "    score = sents_correct / len(sentences)\n",
        "    print(sents_correct, '/', len(sentences), '=', str(score*100)+'%', 'of test cases passed!')\n",
        "    if do_return:\n",
        "        return score, printag\n",
        "\n",
        "def sanityCheckStackBuffer():\n",
        "    sanity_stack = Stack()\n",
        "    item1 = Word('she', 'PRP', 0)\n",
        "    item2 = Word('is', 'VBP', 1)\n",
        "    item3 = Word('working', 'VBG', 2)\n",
        "    sanity_stack.push(item1)\n",
        "    sanity_stack.push(item2)\n",
        "    sanity_stack.push(item3)\n",
        "    p1 = False\n",
        "    p2 = False\n",
        "    p3 = False\n",
        "    pop_item = sanity_stack.pop()\n",
        "    if (pop_item.idx == 2 and pop_item.word == 'working' and pop_item.pos == 'VBG'):\n",
        "        p1 = True\n",
        "    pop_item = sanity_stack.pop()\n",
        "    if (pop_item.idx == 1 and pop_item.word == 'is' and pop_item.pos == 'VBP'):\n",
        "        p2 = True\n",
        "    pop_item = sanity_stack.pop()\n",
        "    if (pop_item.idx == 0 and pop_item.word == 'she' and pop_item.pos == 'PRP'):\n",
        "        p3 = True\n",
        "    if p1 and p2 and p3:\n",
        "        print(\"Stack sanity check PASSED\")\n",
        "    else:\n",
        "        print(\"Stack sanity check FAILED\")\n",
        "\n",
        "    sentence = [item1, item2, item3]\n",
        "    sanity_buffer = Buffer(sentence)\n",
        "    p1 = False\n",
        "    p2 = False\n",
        "    p3 = False\n",
        "    pop_item = sanity_buffer.pop()\n",
        "    if (pop_item.idx == 0 and pop_item.word == 'she' and pop_item.pos == 'PRP'):\n",
        "        p1 = True\n",
        "    pop_item = sanity_buffer.pop()\n",
        "    if (pop_item.idx == 1 and pop_item.word == 'is' and pop_item.pos == 'VBP'):\n",
        "        p2 = True\n",
        "    pop_item = sanity_buffer.pop()\n",
        "    if (pop_item.idx == 2 and pop_item.word == 'working' and pop_item.pos == 'VBG'):\n",
        "        p3 = True\n",
        "    if p1 and p2 and p3:\n",
        "        print(\"Buffer sanity check PASSED\")\n",
        "    else:\n",
        "        print(\"Buffer sanity check FAILED\")\n",
        "\n",
        "count_parameters = lambda model: sum(p.numel() for p in model.parameters() if p.requires_grad)\n",
        "\n",
        "def sanityCheckModel(all_test_params, model, expected_outputs, init_or_forward, batch_sizes=None):\n",
        "    print('--- TEST: ' + ('Number of Model Parameters (tests __init__(...))' if init_or_forward=='init' else 'Output shape of forward(...)') + ' ---')\n",
        "\n",
        "    for tp_idx, (test_params, expected_output) in enumerate(zip(all_test_params, expected_outputs)):\n",
        "        if init_or_forward == \"forward\":\n",
        "            assert len(batch_sizes) == len(all_test_params)\n",
        "            texts = torch.randint(1,4,(batch_sizes[tp_idx], test_params['n_features']))\n",
        "\n",
        "        # Construct the student model\n",
        "        tps = {k:v for k, v in test_params.items() if k != 'batch_size'}\n",
        "        stu_parser_model = model(**tps)\n",
        "\n",
        "        if init_or_forward == \"forward\":\n",
        "            with torch.no_grad():\n",
        "                stu_out = stu_parser_model(texts)\n",
        "            ref_out_shape = expected_output\n",
        "\n",
        "            has_passed = torch.is_tensor(stu_out)\n",
        "            if not has_passed: msg = 'Output must be a torch.Tensor; received ' + str(type(stu_out))\n",
        "            else:\n",
        "                has_passed = stu_out.shape == ref_out_shape\n",
        "                msg = 'Your Output Shape: ' + str(stu_out.shape)\n",
        "\n",
        "\n",
        "            status = 'PASSED' if has_passed else 'FAILED'\n",
        "            message = '\\t' + status + \"\\t Init Input: \" + str({k:v for k,v in tps.items()}) + '\\tForward Input Shape: ' + str(texts.shape) + '\\tExpected Output Shape: ' + str(ref_out_shape) + '\\t' + msg\n",
        "            print(message)\n",
        "        else:\n",
        "            assert batch_sizes is None\n",
        "            stu_num_params = count_parameters(stu_parser_model)\n",
        "            ref_num_params = expected_output\n",
        "            comparison_result = (stu_num_params == ref_num_params)\n",
        "\n",
        "            status = 'PASSED' if comparison_result else 'FAILED'\n",
        "            message = '\\t' + status + \"\\tInput: \" + str({k:v for k,v in test_params.items()}) + ('\\tExpected Num. Params: ' + str(ref_num_params) + '\\tYour Num. Params: '+ str(stu_num_params))\n",
        "            print(message)\n",
        "\n",
        "        del stu_parser_model"
      ]
    },
    {
      "cell_type": "markdown",
      "metadata": {
        "id": "oetuJnpcKceg"
      },
      "source": [
        "# Step 1: Prepare Data\n",
        "\n",
        "\n"
      ]
    },
    {
      "cell_type": "code",
      "execution_count": null,
      "metadata": {
        "id": "mx_-2tlmkzju"
      },
      "outputs": [],
      "source": [
        "### DO NOT EDIT ###\n",
        "\n",
        "import numpy as np\n",
        "from spacy import displacy\n",
        "import random"
      ]
    },
    {
      "cell_type": "markdown",
      "metadata": {
        "id": "16uFydR7ooyy"
      },
      "source": [
        "## Read & Visualize Data\n",
        "\n",
        "We provide the data in a format preprocessed for this assignment. Here are some links if you are interested in learning more about the data:\n",
        "* We use one of the Universal Dependencies datasets from http://universaldependencies.org/docsv1/. Specifically, we use the UD_English dataset in version 1.4.\n",
        "* Refer to https://universaldependencies.org/ if you want to know more about the Universal Dependencies framework in general.\n",
        "* The data license can be found here: https://lindat.mff.cuni.cz/repository/xmlui/page/licence-UD-1.4\n",
        "\n",
        "Run the following cells to load the data and see the number of sentences. You do <b>not</b> need to edit these cells."
      ]
    },
    {
      "cell_type": "code",
      "execution_count": null,
      "metadata": {
        "id": "llYdv429tNa3"
      },
      "outputs": [],
      "source": [
        "### DO NOT EDIT ###\n",
        "\n",
        "def load_data():\n",
        "    train_set = cp.load(urlopen(\"https://drive.google.com/uc?export=download&id=1N4B4bC4ua0bFMIYeNdtNQQ72LxxKLPas\"))\n",
        "    test_set = cp.load(urlopen(\"https://drive.google.com/uc?export=download&id=1TE2AflhABbz41dLMGmD1kTm7WevYpU31\"))\n",
        "    return train_set, test_set"
      ]
    },
    {
      "cell_type": "code",
      "execution_count": null,
      "metadata": {
        "id": "USK3sLcNk8UM"
      },
      "outputs": [],
      "source": [
        "### DO NOT EDIT ###\n",
        "\n",
        "if __name__ == '__main__':\n",
        "    train_set, test_set = load_data()\n",
        "    print(\"Num. Train Examples:\", len(train_set))\n",
        "    print(\"Num. Test Examples: \", len(test_set))"
      ]
    },
    {
      "cell_type": "markdown",
      "metadata": {
        "id": "7zBxXO3EiYqw"
      },
      "source": [
        "Next, we visualize the training data, which contains labeled dependency trees. At test time, our goal will be to predict the dependency arcs & labels for a given sentence."
      ]
    },
    {
      "cell_type": "code",
      "execution_count": null,
      "metadata": {
        "id": "fskHaHIslhrL"
      },
      "outputs": [],
      "source": [
        "### DO NOT EDIT ###\n",
        "\n",
        "def display_sentence(sent):\n",
        "    res = {'words': [{'text': \"<ROOT>\", 'tag': 'POS_ROOT'}], 'arcs': []}\n",
        "    for i in range (len(sent['word'])):\n",
        "        res['words'].append({'text': sent['word'][i], 'tag': sent['pos'][i]})\n",
        "        s = i + 1\n",
        "        e = sent['head'][i]\n",
        "        direc = \"left\"\n",
        "        if s > e:\n",
        "            s = sent['head'][i]\n",
        "            e = i + 1\n",
        "            direc = 'right'\n",
        "        cur = {'start': s, 'end': e, 'label': sent['label'][i], 'dir': direc}\n",
        "        res['arcs'].append(cur)\n",
        "    displacy.render(res, style=\"dep\", manual=True, jupyter=True, options={'distance': 70})\n"
      ]
    },
    {
      "cell_type": "code",
      "execution_count": null,
      "metadata": {
        "id": "XnagGbSgk_6T"
      },
      "outputs": [],
      "source": [
        "if __name__ == '__main__':\n",
        "    MIN_SENT_LEN, MAX_SENT_LEN = 4, 17 # You can change this if you're interested in seeing shorter/longer sentences\n",
        "    for x in random.sample(list(filter(lambda x: len(x['word']) >= MIN_SENT_LEN and len(x['word']) <= MAX_SENT_LEN, train_set)), 5):\n",
        "        display_sentence(x)"
      ]
    },
    {
      "cell_type": "markdown",
      "metadata": {
        "id": "u2w96HwRifLa"
      },
      "source": [
        "## Build Vocabulary\n",
        "\n",
        "Next, we build the `Vocabulary` class. This maps each word, part-of-speech tag (POS), and label to an id (index), which we will later use in our embeddings. We also need to enumerate each possible transition, and map it to an id, since this is what our neural network will try to predict. The `Vocabulary` class does this as follows. Suppose there are $n$ labels. For each label, we create a Left-Arc (LA) and Right-Arc (RA) action for that label; and we also create a separate Shift (S) action. This creates a total of $2n+1$ actions that our dependency parser will be able to choose from.\n",
        "\n",
        "You do <b>not</b> need to edit this cell."
      ]
    },
    {
      "cell_type": "code",
      "execution_count": null,
      "metadata": {
        "id": "2e_6SR35jdyu"
      },
      "outputs": [],
      "source": [
        "### DO NOT EDIT ###\n",
        "\n",
        "class Vocabulary(object):\n",
        "    def __init__(self, dataset):\n",
        "\n",
        "        UNK = '<UNK>'\n",
        "        NULL = '<NULL>'\n",
        "        ROOT = '<ROOT>'\n",
        "\n",
        "        # Find the label of the root\n",
        "        root_labels = list([l for ex in dataset for (h, l) in zip(ex['head'], ex['label']) if h == 0])\n",
        "        assert len(set(root_labels)) == 1\n",
        "        self.root_label = root_labels[0]\n",
        "\n",
        "        # Create mapping from transitions to ids\n",
        "        labels = sorted(list(set([w for ex in dataset for w in ex['label'] if w != self.root_label]))) # list of unique non-root labels\n",
        "        labels = [self.root_label] + labels # add root label too\n",
        "        self.n_labels = len(labels)\n",
        "\n",
        "        transitions = ['LA-' + l for l in labels] + ['RA-' + l for l in labels] + ['S']\n",
        "        self.n_trans = len(transitions) # 2*n_labels + 1\n",
        "        self.tran2id = {t: i for (i, t) in enumerate(transitions)}\n",
        "        self.id2tran = {i: t for (i, t) in enumerate(transitions)}\n",
        "\n",
        "        # Create mapping from word, pos, & label to id\n",
        "        # Do labels first\n",
        "        self.LABEL_PREFIX = '<l>:'\n",
        "        self.tok2id = {self.LABEL_PREFIX + l: i for (i, l) in enumerate(labels)}\n",
        "        self.LABEL_NULL = self.tok2id[self.LABEL_PREFIX + NULL] = len(self.tok2id) # Add null label in\n",
        "\n",
        "        # Do pos's\n",
        "        self.POS_PREFIX = '<p>:'\n",
        "        all_pos = sorted(set([self.POS_PREFIX + w for ex in dataset for w in ex['pos']])) # Get pos's\n",
        "        self.tok2id.update({w: index + len(self.tok2id) for (index, w) in enumerate(all_pos)}) # Add poses in\n",
        "        self.POS_NULL = self.tok2id[self.POS_PREFIX + NULL] = len(self.tok2id) # Add null pos\n",
        "        self.POS_ROOT = self.tok2id[self.POS_PREFIX + ROOT] = len(self.tok2id) # Add root pos\n",
        "        self.n_pos = 2 + len(all_pos) # +3 for null, root\n",
        "\n",
        "        # Do words\n",
        "        all_word = sorted(set([w for ex in dataset for w in ex['word']]))\n",
        "        self.tok2id.update({w: index + len(self.tok2id) for (index, w) in enumerate(all_word)}) # Add words in\n",
        "        self.WORD_UNK = self.tok2id[UNK] = len(self.tok2id) # Add unk word\n",
        "        self.WORD_NULL = self.tok2id[NULL] = len(self.tok2id) # Add null word\n",
        "        self.WORD_ROOT = self.tok2id[ROOT] = len(self.tok2id) # Add root word\n",
        "        self.n_words = 3 + len(all_word) # +3 for unk, null, root\n",
        "\n",
        "        self.id2tok = {v: k for (k, v) in self.tok2id.items()} # Flip it\n",
        "        self.n_tokens = len(self.tok2id)\n",
        "\n",
        "    def printStats(self):\n",
        "        print('Num. labels:', self.n_labels)\n",
        "        print('Num. transitions (2*n_labels + 1):', self.n_trans)\n",
        "        print('Num. pos:', self.n_pos)\n",
        "        print('Num. words:', self.n_words)\n",
        "        print('Num. tokens:', self.n_tokens)\n",
        "\n",
        "\n",
        "    def buildSentences(self, examples):\n",
        "        processed_sentences = []\n",
        "        for ex in examples:\n",
        "            # Initialize words & dependencies\n",
        "            words = [Word('<ROOT>', '<POS_ROOT>', 0, self.WORD_ROOT, self.POS_ROOT)]\n",
        "            deps = []\n",
        "\n",
        "            # Loop over words in sentence\n",
        "            for i  in  range(len(ex['word'])):\n",
        "                w = ex['word'][i]\n",
        "                word_id = (self.tok2id[w] if w in self.tok2id else self.WORD_UNK)\n",
        "                pos = self.POS_PREFIX + ex['pos'][i]\n",
        "                pos_id = self.tok2id[pos]\n",
        "                word = Word(ex['word'][i], ex['pos'][i],i+1, word_id, pos_id)\n",
        "\n",
        "                words.append(word)\n",
        "                deps.append((ex['head'][i], word, ex['label'][i] ))\n",
        "\n",
        "            # Create dependencies\n",
        "            dependencies = Dependencies(self)\n",
        "            for dep in deps:\n",
        "                dependencies.add(words[dep[0]], dep[1], dep[2])\n",
        "\n",
        "            processed_sentences.append((words, dependencies))\n",
        "\n",
        "        return processed_sentences"
      ]
    },
    {
      "cell_type": "markdown",
      "metadata": {
        "id": "0wzjGJj_mK_X"
      },
      "source": [
        "Run the following cell to see some stats from the vocabulary."
      ]
    },
    {
      "cell_type": "code",
      "execution_count": null,
      "metadata": {
        "id": "O_ExUJ4ijnNu"
      },
      "outputs": [],
      "source": [
        "### DO NOT EDIT ###\n",
        "\n",
        "if __name__ == '__main__':\n",
        "    Vocabulary(train_set).printStats()"
      ]
    },
    {
      "cell_type": "markdown",
      "metadata": {
        "id": "iNJ1pSc5DnF4"
      },
      "source": [
        "# Step 2: Parser Data Structures [12 points]\n",
        "In this section, we define some useful data structures for dependency parsing. In particular, you will implement the `Stack` and `Buffer` structures, which make up a `ParserConfiguration`. You will also write a function to update these data structures based on a particular transition."
      ]
    },
    {
      "cell_type": "markdown",
      "metadata": {
        "id": "ZF5HszmJHNIu"
      },
      "source": [
        "## Helpful Data Structures\n",
        "\n",
        "First, we define some data classes that you will find useful. You will be working with these a lot, so you should understand the data they contain as well as their methods. You do <b>not</b> need to edit this cell."
      ]
    },
    {
      "cell_type": "code",
      "execution_count": null,
      "metadata": {
        "id": "3EnIONNfHP_U"
      },
      "outputs": [],
      "source": [
        "### DO NOT EDIT ###\n",
        "\n",
        "class Word(object):\n",
        "    '''\n",
        "    Represents a word in the sentence.\n",
        "    '''\n",
        "\n",
        "    def __init__(self, word, pos, idx, word_id=None, pos_id=None):\n",
        "        self.word = word\n",
        "        self.pos = pos\n",
        "        self.idx = idx\n",
        "        self.word_id = word_id\n",
        "        self.pos_id = pos_id\n",
        "\n",
        "    def __str__(self):\n",
        "        return 'Word(idx=' + str(self.idx) + \", word='\" + self.word+\"', pos='\"+self.pos+\"', word_id=\"+str(self.word_id)+', pos_id='+ str(self.pos_id) +')'\n",
        "\n",
        "    def copy(self):\n",
        "        return Word(self.word, self.pos, self.idx, self.word_id, self.pos_id)\n",
        "\n",
        "    def __eq__(self, obj):\n",
        "        if not isinstance(obj, Word): return False\n",
        "        if obj.idx == self.idx:\n",
        "            assert obj.word == self.word and obj.pos == self.pos and obj.word_id == self.word_id and obj.pos_id == self.pos_id, 'Your Word object has been corrupted.'\n",
        "        return obj.idx == self.idx\n",
        "\n",
        "\n",
        "class Arc(object):\n",
        "    '''\n",
        "    Represents an arc between two words.\n",
        "    '''\n",
        "\n",
        "    def __init__(self, head, dependent, label, label_id):\n",
        "        self.head=head # Word object\n",
        "        self.dependent=dependent # Word object\n",
        "        self.label=label\n",
        "        self.label_id = label_id\n",
        "\n",
        "    def __str__(self):\n",
        "        return 'Arc(head_idx='+str(self.head.idx)+', dep_idx='+str(self.dependent.idx)+', label_id='+ str(self.label_id)+')'\n",
        "\n",
        "\n",
        "class Dependencies(object):\n",
        "    '''\n",
        "    Represents the dependency arcs in a sentence.\n",
        "    '''\n",
        "\n",
        "    def __init__(self, vocab):\n",
        "        self.arcs = []\n",
        "        self.vocab = vocab\n",
        "        self.dep_to_head_mapping = {} # For fast lookup\n",
        "\n",
        "    def add(self, head, dependent, label):\n",
        "        '''\n",
        "        Add a dependency from head to dependent with label.\n",
        "        Inputs:\n",
        "            head: Word object\n",
        "            dependent: Word object\n",
        "            label: str\n",
        "        '''\n",
        "        assert label[:3] != 'LA-' and label[:3] != 'RA-', 'You need to pass in just the label to add(...), not the entire action.'\n",
        "        assert head is not None and dependent is not None, \"You must pass in two Word objects to add(...).\"\n",
        "        self.arcs.append(Arc(head, dependent, label, self.vocab.tok2id[self.vocab.LABEL_PREFIX+label]))\n",
        "        assert dependent.idx not in self.dep_to_head_mapping\n",
        "        self.dep_to_head_mapping[dependent.idx] = self.arcs[-1]\n",
        "\n",
        "    def getArcToHead(self, dependent):\n",
        "        '''\n",
        "        Returns the Arc that connects the head of dependent to dependent.\n",
        "        Inputs:\n",
        "            dependent: Word object\n",
        "        '''\n",
        "        if dependent.idx == 0: # Special case for ROOT\n",
        "            return Arc(None, dependent, None, None)\n",
        "        return self.dep_to_head_mapping[dependent.idx]\n",
        "\n",
        "    def __iter__(self):\n",
        "        return iter(self.arcs) # Allows you to iterate \"for x in Dependencies(...)\""
      ]
    },
    {
      "cell_type": "markdown",
      "metadata": {
        "id": "KZt_VfSQ4DLK"
      },
      "source": [
        "## <font color='red'>TODO</font>: Stack & Buffer [6 points]\n",
        "\n",
        "Here, we provide you with the outline of stack and buffer data structures. Your task is to implement the `push(...)` and `pop(...)` methods of the `Stack`, and the `pop(...)` method of the `Buffer`. Each method is worth <b>2 points</b>."
      ]
    },
    {
      "cell_type": "code",
      "execution_count": null,
      "metadata": {
        "id": "sWA0Hyz-N_LG"
      },
      "outputs": [],
      "source": [
        "class Stack(object):\n",
        "    def __init__(self, input=[]):\n",
        "        '''\n",
        "        Initialize an (empty) stack.\n",
        "        '''\n",
        "        self.stack = [word.copy() for word in input]\n",
        "\n",
        "    def push(self, item):\n",
        "        '''\n",
        "        Push item onto (the end of) self.stack. Returns nothing.\n",
        "        '''\n",
        "\n",
        "        ### TODO ###\n",
        "        pass\n",
        "\n",
        "    def pop(self):\n",
        "        '''\n",
        "        Pop item from (the end of) self.stack. Returns the item popped.\n",
        "        '''\n",
        "        assert len(self.stack) > 0\n",
        "\n",
        "        ### TODO ###\n",
        "        return None\n",
        "\n",
        "    def get_si(self, i):\n",
        "        '''\n",
        "        Returns si (the ith element of the stack) if it exists, otherwise None.\n",
        "        '''\n",
        "        assert i > 0, 'Must provide i > 0'\n",
        "        return self.stack[-i] if len(self.stack) >= i else None\n",
        "\n",
        "    def __getitem__(self, idx):\n",
        "        return self.stack[idx]\n",
        "\n",
        "    def __len__(self):\n",
        "        return len(self.stack)\n",
        "\n",
        "    def __str__(self):\n",
        "        return str([str(x) for x in self.stack])\n",
        "\n",
        "\n",
        "class Buffer(object):\n",
        "    def __init__(self, sentence):\n",
        "        '''\n",
        "        Initialize as a list of words in sentence.\n",
        "        '''\n",
        "        self.buffer = [word.copy() for word in sentence]\n",
        "\n",
        "    def pop(self):\n",
        "        '''\n",
        "        Pop item from (the beginning of) self.buffer. Returns the item popped.\n",
        "        '''\n",
        "        assert len(self.buffer) > 0\n",
        "\n",
        "        ### TODO ###\n",
        "        return None\n",
        "\n",
        "    def get_bi(self, i):\n",
        "        '''\n",
        "        Returns bi (the ith element of the buffer) if it exists, otherwise None.\n",
        "        '''\n",
        "        assert i > 0, 'Must provide i > 0'\n",
        "        return self.buffer[i-1] if len(self.buffer) >= i else None\n",
        "\n",
        "    def __getitem__(self, idx):\n",
        "        return self.buffer[idx]\n",
        "\n",
        "    def __len__(self):\n",
        "        return len(self.buffer)\n",
        "\n",
        "    def __str__(self):\n",
        "        return str([str(x) for x in self.buffer])"
      ]
    },
    {
      "cell_type": "markdown",
      "metadata": {
        "id": "FE81AVCUuhv2"
      },
      "source": [
        "The code below runs a sanity check for your `Stack` and `Buffer` classes. The tests are similar to the hidden ones in Gradescope. However, note that passing the sanity check does <b>not</b> guarantee that you will pass the autograder; it is intended to help you debug."
      ]
    },
    {
      "cell_type": "code",
      "execution_count": null,
      "metadata": {
        "id": "CxZaPXsCugfp"
      },
      "outputs": [],
      "source": [
        "if __name__ == '__main__':\n",
        "    sanityCheckStackBuffer()"
      ]
    },
    {
      "cell_type": "markdown",
      "metadata": {
        "id": "9wZpV9p6K-_C"
      },
      "source": [
        "## <font color='red'>TODO</font>: Parser Configuration [6 points]\n",
        "\n",
        "Next, we create a `ParserConfiguration` class, which contains the `Stack`, `Buffer`, and `Dependencies` data structures. You only need to implement `parse_step(self, transition)`, which modifies these structures based on `transition`. This method is worth <b>6 points</b>.\n",
        "\n",
        "More specifically, let $\\sigma$ represent the stack, $\\beta$ the buffer, and $A$ the set of arcs (dependencies). Based on the value of `transition`, `parse_step(self, transition)` should do the following:\n",
        "* `transition = 'S'`: &nbsp;<b>Shift</b> $w_k$ from the buffer to the stack. $(\\sigma, w_k|\\beta, A) \\Rightarrow (\\sigma|w_k, \\beta, A)$\n",
        "* `transition = 'LA-label'`: &nbsp;Add a <b>left arc</b> with label $label$ from $w_j$ to $w_i$. $(\\sigma |w_i w_j , \\beta, A) \\Rightarrow (\\sigma |w_j, \\beta, A \\cup \\{(w_j, label, w_i)\\})$\n",
        "* `transition = 'RA-label'`: &nbsp;Add a <b>right arc</b> with label $label$ from $w_i$ to $w_j$. $(\\sigma |w_i w_j , \\beta, A) \\Rightarrow (\\sigma |w_i, \\beta, A \\cup \\{(w_i, label, w_j)\\})$\n",
        "\n",
        "<font color='green'><b>Hint:</b> Use your `push(...)` and `pop(...)` operations here, and look at the methods of the `Dependencies` class to see how to add an arc to it.</font>"
      ]
    },
    {
      "cell_type": "code",
      "execution_count": null,
      "metadata": {
        "id": "h3TbkOknPGzt"
      },
      "outputs": [],
      "source": [
        "class ParserConfiguration(object):\n",
        "    def __init__(self, sentence, vocab):\n",
        "        '''\n",
        "        Inputs:\n",
        "            sentence: list of Word objects\n",
        "            vocab: Vocabulary object\n",
        "        '''\n",
        "\n",
        "        self.vocab = vocab\n",
        "\n",
        "        assert sentence[0].word_id == self.vocab.WORD_ROOT\n",
        "        self.stack = Stack([sentence[0]]) # Initialize stack with ROOT\n",
        "        self.buffer = Buffer(sentence[1:]) # Initialize buffer with sentence\n",
        "        self.dependencies = Dependencies(vocab)\n",
        "\n",
        "    def parse_step(self, transition):\n",
        "        '''\n",
        "        Update stack, buffer, and dependencies based on transition.\n",
        "        Inputs:\n",
        "            transition: str, \"S\", \"LA-label\", or \"RA-label\", where label is a valid label\n",
        "        '''\n",
        "        assert transition in self.vocab.tran2id\n",
        "\n",
        "        ### TODO ###\n",
        "        pass"
      ]
    },
    {
      "cell_type": "markdown",
      "metadata": {
        "id": "5ty_IGY9KvFi"
      },
      "source": [
        "# Step 3: Generate Training Data [44 points]\n",
        "\n",
        "As you saw above, the dataset contains many sentences along with their gold dependency parses. In order to use a transition-based parsing algorithm, we must predict the next parser action at each time step, based on the current parser configuration. Thus, we will need to transform each sentence into a series of training examples, where the input features are based on the current parser configuration and the correct label is the gold action.\n",
        "\n",
        "In this section, you will first write an algorithm to select the next parser action at each time step based on the gold dependency parse. Then, you will extract features from each step's parser configuration, which the neural network will use to predict the next action."
      ]
    },
    {
      "cell_type": "markdown",
      "metadata": {
        "id": "sZSOg7bCdqFz"
      },
      "source": [
        "## <font color='red'>TODO</font>: Compute Gold Action [8 points]\n",
        "\n",
        "Next, you will write a function `get_gold_action(stack, buffer, gold_dependencies)`. Given a stack and buffer, this function should return the next action of the parser based on the gold dependencies. We encourage you to review the example of a sentence parsing in the lecture slides before attempting to implement this function. This method is worth <b>8 points</b>.\n",
        "\n",
        "Let $s_i$ be $i$th element of the stack and $h(s_i)$ be the head word of $s_i$. The pseudocode is as follows:\n",
        "\n",
        "1. If the stack only contains `ROOT`:\n",
        " - If the buffer is not empty, return `S` (shift).\n",
        " - If the buffer is empty, return `DONE`, indicating the parse is complete.\n",
        "2. If $h(s_2)=s_1$, return `LA-label`. Here, `label` is the label of the arc that attaches $s_2$ to $s_1$.\n",
        "3. If $h(s_1)=s_2$ <b>and</b> $h(b_i) \\neq s_1$ for all words $b_i$ in the buffer, return `RA-label`. Here, `label` is the label of the arc that attaches $s_1$ to $s_2$.\n",
        " - This condition means that you cannot attach $s_1$ until everything in the buffer that depends on $s_1$ is attached. You should think about why this condition is necessary!\n",
        "4. Otherwise:\n",
        " - If the buffer is not empty, return `S`.\n",
        " - If the buffer is empty, return `None`, indicating a failed parse (i.e., the sentence is non-projective).\n",
        "\n",
        "<font color='green'><b>Hint:</b> To get the $i$th word on the stack or buffer, call `stack.get_si(i)` or `buffer.get_bi(i)`. To find the head of a word `w`, call `gold_dependencies.getArcToHead(w)`.</font>"
      ]
    },
    {
      "cell_type": "code",
      "execution_count": null,
      "metadata": {
        "id": "NoZRaLj-z1Ss"
      },
      "outputs": [],
      "source": [
        "def get_gold_action(stack, buffer, gold_dependencies):\n",
        "    '''\n",
        "    Given stack & buffer, compute the next gold action based on gold_dependencies.\n",
        "    Args:\n",
        "        - stack: Stack object\n",
        "        - buffer: Buffer object\n",
        "        - gold_dependencies: Dependencies object\n",
        "    Returns:\n",
        "        - action: str; 'S', 'LA-label', or 'RA-label', where 'label' is a valid label. Return None if no action possible and 'DONE' if the parse is complete.\n",
        "    '''\n",
        "    action = None\n",
        "\n",
        "    ### TODO ###\n",
        "    return action"
      ]
    },
    {
      "cell_type": "markdown",
      "metadata": {
        "id": "fOYj8BZIP1ZH"
      },
      "source": [
        "We provide you with 10 sentences for a sanity check of this function. The first sentence is the example from the lecture slides, the next 8 sentences are artificial sentences designed to test edge cases, and the last sentence is an example from the training set. For each sentence, we have hard-coded the stack & buffer configurations that you should encounter as well as the correct action.\n",
        "\n",
        "The `to_print` argument of this method may be set to one of the following values:\n",
        "* `all`: Print every sentence.\n",
        "* `incorrect`: Print only the sentences that your function gets incorrect.\n",
        "* `none`: Don't print any of the sentences (only show the score).\n",
        "\n",
        "You may also toggle `do_raise`, which controls whether an exception in your code is raised (halting execution) or suppressed (thus allowing all test sentences to complete so you can see your score).\n",
        "\n",
        "Note that Gradescope uses a set of different (hidden) tests, so you will want to fully test your code here."
      ]
    },
    {
      "cell_type": "code",
      "execution_count": null,
      "metadata": {
        "id": "v1y23t16GcCl"
      },
      "outputs": [],
      "source": [
        "if __name__ == '__main__':\n",
        "    sanityCheck(get_gold_action, to_print='incorrect', do_raise=True)"
      ]
    },
    {
      "cell_type": "markdown",
      "metadata": {
        "id": "FgGQNEEAp8o3"
      },
      "source": [
        "## <font color='red'>TODO</font>: Generate Training Examples [8 points]\n",
        "\n",
        "\n",
        "Now you will write a function to generate the training examples. Recall that each sentence needs to be converted into a series of separate training examples. Each training example will essentially be a partial parser configuration along with its gold action; the goal of the neural network will be to predict this action from the parser configuration.\n",
        "\n",
        "In order to make this prediction, you need to extract features from the parser configuration. You will implement the feature extraction method in a future section; for now, we pass in a dummy function `feat_extract(parser_config)` that returns an empty feature list.\n",
        "\n",
        "This function is worth <b>8 points</b>."
      ]
    },
    {
      "cell_type": "code",
      "execution_count": null,
      "metadata": {
        "id": "hfrlMo6tkm1M"
      },
      "outputs": [],
      "source": [
        "def generate_training_examples(sentence, gold_dependencies, vocab, feat_extract = lambda parser_config: []):\n",
        "    '''\n",
        "    Create training instances for sentence.\n",
        "    Inputs:\n",
        "        sentence: list of Word objects\n",
        "        gold_dependencies: Dependencies object that contains the complete gold dependency tree\n",
        "        vocab: Vocabulary object\n",
        "        feat_extract: Feature extraction function\n",
        "    Outputs:\n",
        "        training_examples: List of tuples (features, label), where features is a list and label is a string\n",
        "    Pseudocode:\n",
        "        (1) Initialize your parser configuration (note that the __init__ method of ParserConfiguration creates the stack & buffer for you)\n",
        "        (2) Repeatedly call get_gold_action(...) on your current parser confuration until the gold action is 'DONE'\n",
        "        (3) If the gold action is None at any step, return []  (indicating the sentence cannot be parsed; it is non-projective)\n",
        "        (4) Otherwise, append tuple (features, gold action) to training_examples, where features is the result of calling feat_extract on your parser configuration\n",
        "        (5) Update your parser configuration according to the gold action\n",
        "        (6) Return training_examples\n",
        "    '''\n",
        "\n",
        "    training_examples = []\n",
        "\n",
        "    ### TODO ###\n",
        "    return None"
      ]
    },
    {
      "cell_type": "markdown",
      "metadata": {
        "id": "47qifHINttWZ"
      },
      "source": [
        "We provide you with a sanity check for this function on the same test sentences we used above."
      ]
    },
    {
      "cell_type": "code",
      "execution_count": null,
      "metadata": {
        "id": "A56K5Ku8mhU5"
      },
      "outputs": [],
      "source": [
        "if __name__ == '__main__':\n",
        "    sanityCheck_generate_training_examples(generate_training_examples, to_print='incorrect', do_raise=True)"
      ]
    },
    {
      "cell_type": "markdown",
      "metadata": {
        "id": "PRMxUrAZp0hM"
      },
      "source": [
        "The following function calls `generate_training_examples(...)` on every sentence in the dataset to create the full training data. You do <b>not</b> need to edit it."
      ]
    },
    {
      "cell_type": "code",
      "execution_count": null,
      "metadata": {
        "id": "tVbUIQN4X-rz"
      },
      "outputs": [],
      "source": [
        "### DO NOT EDIT ###\n",
        "\n",
        "def generate_all_training_examples(vocab, sentences, feat_extract = lambda parser_config: []):\n",
        "    '''\n",
        "    Generate training examples for all sentences.\n",
        "    '''\n",
        "    all_training_examples = []\n",
        "    successful_sents = 0\n",
        "    for sentence in sentences:\n",
        "        training_examples = generate_training_examples(sentence[0], sentence[1], vocab, feat_extract)\n",
        "        if training_examples != []:\n",
        "            all_training_examples += training_examples\n",
        "            successful_sents += 1\n",
        "\n",
        "    print(\"Successfully generated training examples for\", successful_sents, \"/\", len(sentences), \"sentences\")\n",
        "    print(\"Number of training examples:\", len(all_training_examples))\n",
        "\n",
        "    return all_training_examples"
      ]
    },
    {
      "cell_type": "code",
      "execution_count": null,
      "metadata": {
        "id": "zwi0kw6Jfzxp"
      },
      "outputs": [],
      "source": [
        "### DO NOT EDIT ###\n",
        "\n",
        "if __name__ == '__main__':\n",
        "    _vocab = Vocabulary(train_set) # Variable just used in this cell\n",
        "    generate_all_training_examples(_vocab, _vocab.buildSentences(train_set))"
      ]
    },
    {
      "cell_type": "markdown",
      "metadata": {
        "id": "yDXMtwn6IJM3"
      },
      "source": [
        "## <font color='red'>TODO</font>: Extract Features [28 points]\n",
        "By this point, you have written code to create individual training instances. Each instance is made up of a parser configuration along with the gold action that the classifier should be trained to predict.\n",
        "\n",
        "In order to make this prediction, your neural network will have to rely on features extracted from each parser configuration. We follow the procedure described at the end of Section 3.1 of <a href=\"https://nlp.stanford.edu/pubs/emnlp2014-depparser.pdf\">A Fast and Accurate Dependency Parser using Neural Networks</a>. In total, we will extract 48 features from the parser configuration $-$ 18 word features, 18 POS features, and 12 label features:\n",
        "* Word & POS features for $s_1$, $s_2$, $s_3$ (top 3 items of the stack)\n",
        "* Word & POS features for $b_1$, $b_2$, $b_3$ (top 3 items of the buffer)\n",
        "* Word, POS, & label features for $lc_1(s_1)$, $lc_2(s_1)$, $lc_1(s_2)$, $lc_2(s_2)$ (the first & second leftmost children of the top 2 items on the stack)\n",
        "* Word, POS, & label features for $rc_1(s_1)$, $rc_2(s_1)$, $rc_1(s_2)$, $rc_2(s_2)$ (the first & second rightmost children of the top 2 items on the stack)\n",
        "* Word, POS, & label features for $lc_1(lc_1(s_1))$, $lc_1(lc_1(s_2))$, $rc_1(rc_1(s_1))$, $rc_1(rc_1(s_2))$ (the leftmost of the leftmost & rightmost of the rightmost children of the top 2 items on the stack)\n",
        "\n",
        "You will write a separate function for each of the 5 bullets above. Each function will return a list of word features, a list of POS features, and (in the relevant cases) a list of label features. We also provide you with a test for each function.\n",
        "\n",
        "A \"feature\" refers to the id (index in the Vocabulary) of a word, POS, or label. Your neural network will then construct embeddings for each id, much as you have seen in previous homeworks."
      ]
    },
    {
      "cell_type": "markdown",
      "metadata": {
        "id": "psFHnbnMQ7rh"
      },
      "source": [
        "First, write 2 functions to extract features corresponding to the words at the top of the stack & buffer:\n",
        "* `get_top3_stack_features(parser_config)` <b>[3 points]</b>: Return word & POS features (ids) for $s_1$, $s_2$, $s_3$ (top 3 words on the stack).\n",
        "* `get_top3_buffer_features(parser_config)` <b>[3 points]</b>: Return word & POS features (ids) for $b_1$, $b_2$, $b_3$ (top 3 words on the buffer).\n",
        "\n",
        "Wherever a particular word does not exist (such as when the stack or buffer has length $< 3$) use the appropriate NULL token. This is necessary to ensure that our neural network will see an equally sized feature vector for each example."
      ]
    },
    {
      "cell_type": "code",
      "execution_count": null,
      "metadata": {
        "id": "_Afl9vxuRtxN"
      },
      "outputs": [],
      "source": [
        "def get_top3_stack_features(parser_config):\n",
        "    '''\n",
        "    Get the word and POS features for s1, s2, and s3 (the top 3 items on the stack)\n",
        "    Returns:\n",
        "        word_features: List of word ids for s1, s2, s3 (use vocab.WORD_NULL if a word does not exist)\n",
        "        pos_features: List of POS ids for s1, s2, s3 (use vocab.POS_NULL if a word does not exist)\n",
        "    '''\n",
        "    word_features, pos_features = [parser_config.vocab.WORD_NULL]*3, [parser_config.vocab.POS_NULL]*3\n",
        "\n",
        "    ### TODO ###\n",
        "    return None, None"
      ]
    },
    {
      "cell_type": "code",
      "execution_count": null,
      "metadata": {
        "id": "S8vLFHRpduin"
      },
      "outputs": [],
      "source": [
        "if __name__ == '__main__':\n",
        "    sanityCheck(get_top3_stack_features, to_print='incorrect', do_raise=True)"
      ]
    },
    {
      "cell_type": "code",
      "execution_count": null,
      "metadata": {
        "id": "u7KKlAcf8-dm"
      },
      "outputs": [],
      "source": [
        "def get_top3_buffer_features(parser_config):\n",
        "    '''\n",
        "    Get the word and POS features for b1, b2, and b3 (the top 3 items on the buffer)\n",
        "    Returns:\n",
        "        word_features: List of word ids for b1, b2, b3 (use vocab.WORD_NULL if a word does not exist)\n",
        "        pos_features: List of POS ids for b1, b2, b3 (use vocab.POS_NULL if a word does not exist)\n",
        "    '''\n",
        "    word_features, pos_features = [parser_config.vocab.WORD_NULL]*3, [parser_config.vocab.POS_NULL]*3\n",
        "\n",
        "    ### TODO ###\n",
        "    return None, None"
      ]
    },
    {
      "cell_type": "code",
      "execution_count": null,
      "metadata": {
        "id": "-bd7dz0GfXVK"
      },
      "outputs": [],
      "source": [
        "if __name__ == '__main__':\n",
        "    sanityCheck(get_top3_buffer_features, to_print='incorrect', do_raise=True)"
      ]
    },
    {
      "cell_type": "markdown",
      "metadata": {
        "id": "09zcpPdWUe2a"
      },
      "source": [
        "The remaining features have to do with the leftmost & rightmost children of the words at the top of the stack & buffer. Write the following 2 helper functions to make it easier to access these dependents:\n",
        "* `get_lc(parser_config, word)` <b>[2 points]</b>: Return a list of arcs to dependents of `word`, sorted from <b>left to right</b>. Only include dependents that are to the <b>left</b> of `word` in the sentence.\n",
        "* `get_rc(parser_config, word)` <b>[2 points]</b>: Return a list of arcs to dependents of `word`, sorted from <b>right to left</b>. Only include dependents that are to the <b>right</b> of `word` in the sentence.\n",
        "\n",
        "<font color='green'><b>Hint:</b> You can sort a list of objects using `sorted(...)` with the `key` parameter.</font>\n",
        "\n",
        "<font color='green'><b>Hint:</b> Each of these functions can be written in as few as 1 line. If you find yourself using more than 5 lines, you are probably doing more work than you need to.</font>"
      ]
    },
    {
      "cell_type": "code",
      "execution_count": null,
      "metadata": {
        "id": "MCu-UWopILGy"
      },
      "outputs": [],
      "source": [
        "def get_lc(parser_config, word):\n",
        "    '''\n",
        "    Finds the left dependents of word, sorted from left to right.\n",
        "    Returns:\n",
        "        A list of Arcs whose head is word, sorted by the indices of the dependent word from left to right.\n",
        "    '''\n",
        "    ### TODO ###\n",
        "    return None"
      ]
    },
    {
      "cell_type": "code",
      "execution_count": null,
      "metadata": {
        "id": "lNKpmxWdhMO3"
      },
      "outputs": [],
      "source": [
        "if __name__ == '__main__':\n",
        "    sanityCheck(get_lc, to_print='incorrect', do_raise=True)"
      ]
    },
    {
      "cell_type": "code",
      "execution_count": null,
      "metadata": {
        "id": "Yu8bcii49Ais"
      },
      "outputs": [],
      "source": [
        "def get_rc(parser_config, word):\n",
        "    '''\n",
        "    Finds the right dependents of word, sorted from right to left.\n",
        "    Returns:\n",
        "        A list of Arcs whose head is word, sorted by the indices of the dependent word from right to left.\n",
        "    '''\n",
        "    ### TODO ###\n",
        "    return None"
      ]
    },
    {
      "cell_type": "code",
      "execution_count": null,
      "metadata": {
        "id": "2akWvmieu8zR"
      },
      "outputs": [],
      "source": [
        "if __name__ == '__main__':\n",
        "    sanityCheck(get_rc, to_print='incorrect', do_raise=True)"
      ]
    },
    {
      "cell_type": "markdown",
      "metadata": {
        "id": "GgvnzwesXoxT"
      },
      "source": [
        "Let $lc_j(s_i)$ be the $j$th leftmost child of the $i$th item on the stack. Write the following function:\n",
        "* `get_lc1_lc2_features(parser_config, i)` <b>[6 points]</b>: Return word & POS features for $lc_1(s_i)$ and $lc_2(s_i)$. Additionally, return label features (the label ids) for the arcs that attach $lc_1(s_i)$ to $s_i$ and $lc_2(s_i)$ to $s_i$. As before, wherever a particular word does not exist, use the appropriate NULL token.\n",
        "\n",
        "We will call this function with `i=1` and `i=2`, accounting for the words $lc_1(s_1)$, $lc_2(s_1)$, $lc_1(s_2)$, $lc_2(s_2)$."
      ]
    },
    {
      "cell_type": "code",
      "execution_count": null,
      "metadata": {
        "id": "oOUWfviTW4cf"
      },
      "outputs": [],
      "source": [
        "def get_lc1_lc2_features(parser_config, i):\n",
        "    '''\n",
        "    Get the word, POS, and label features for lc1(si) and lc2(si), where i in {1, 2}\n",
        "    Returns:\n",
        "        word_features: List of word ids for lc1(si), lc2(si) (use vocab.WORD_NULL if a word does not exist)\n",
        "        pos_features: List of POS ids for lc1(si), lc2(si) (use vocab.POS_NULL if a word does not exist)\n",
        "        label_features: List of label ids for lc1(si), lc2(si) (use vocab.LABEL_NULL if a word does not exist)\n",
        "    '''\n",
        "    assert i in {1,2}\n",
        "    word_features, pos_features, label_features = [parser_config.vocab.WORD_NULL]*2, [parser_config.vocab.POS_NULL]*2, [parser_config.vocab.LABEL_NULL]*2\n",
        "\n",
        "    ### TODO ###\n",
        "    return None, None, None"
      ]
    },
    {
      "cell_type": "code",
      "execution_count": null,
      "metadata": {
        "id": "alFEWfadfgid"
      },
      "outputs": [],
      "source": [
        "if __name__ == '__main__':\n",
        "    sanityCheck(get_lc1_lc2_features, i=1, to_print='incorrect', do_raise=True) # call with i=1"
      ]
    },
    {
      "cell_type": "code",
      "execution_count": null,
      "metadata": {
        "id": "j69zi5M5fjXm"
      },
      "outputs": [],
      "source": [
        "if __name__ == '__main__':\n",
        "    sanityCheck(get_lc1_lc2_features, i=2, to_print='incorrect', do_raise=True) # call with i=2"
      ]
    },
    {
      "cell_type": "markdown",
      "metadata": {
        "id": "ujGRbd1Ma8w3"
      },
      "source": [
        "You will now write the analagous function for the rightmost children. Let $rc_j(s_i)$ be the $j$th rightmost child of the $i$th item on the stack. Write the following function:\n",
        "* `get_rc1_rc2_features(parser_config, i)` <b>[6 points]</b>: Return word & POS features for $rc_1(s_i)$ and $rc_2(s_i)$. Additionally, return label features (the label ids) for the arcs that attach $rc_1(s_i)$ to $s_i$ and $rc_2(s_i)$ to $s_i$. As before, wherever a particular word does not exist, use the appropriate NULL token.\n",
        "\n",
        "We will call this function with `i=1` and `i=2`, accounting for the words $rc_1(s_1)$, $rc_2(s_1)$, $rc_1(s_2)$, $rc_2(s_2)$."
      ]
    },
    {
      "cell_type": "code",
      "execution_count": null,
      "metadata": {
        "id": "4y6SKXd9a4SI"
      },
      "outputs": [],
      "source": [
        "def get_rc1_rc2_features(parser_config, i):\n",
        "    '''\n",
        "    Get the word, POS, and label features for rc1(si) and rc2(si), where i in {1, 2}\n",
        "    Returns:\n",
        "        word_features: List of word ids for rc1(si), rc2(si) (use vocab.WORD_NULL if a word does not exist)\n",
        "        pos_features: List of POS ids for rc1(si), rc2(si) (use vocab.POS_NULL if a word does not exist)\n",
        "        label_features: List of label ids for rc1(si), rc2(si) (use vocab.LABEL_NULL if a word does not exist)\n",
        "    '''\n",
        "    assert i in {1,2}\n",
        "    word_features, pos_features, label_features = [parser_config.vocab.WORD_NULL]*2, [parser_config.vocab.POS_NULL]*2, [parser_config.vocab.LABEL_NULL]*2\n",
        "\n",
        "    ### TODO ###\n",
        "    return None, None, None"
      ]
    },
    {
      "cell_type": "code",
      "execution_count": null,
      "metadata": {
        "id": "g0hpH3b3f3gh"
      },
      "outputs": [],
      "source": [
        "if __name__ == '__main__':\n",
        "    sanityCheck(get_rc1_rc2_features, i=1, to_print='incorrect', do_raise=True) # call with i=1"
      ]
    },
    {
      "cell_type": "code",
      "execution_count": null,
      "metadata": {
        "id": "49GvwyI6f8al"
      },
      "outputs": [],
      "source": [
        "if __name__ == '__main__':\n",
        "    sanityCheck(get_rc1_rc2_features, i=2, to_print='incorrect', do_raise=True) # call with i=2"
      ]
    },
    {
      "cell_type": "markdown",
      "metadata": {
        "id": "BKtZ3smFhXqK"
      },
      "source": [
        "Finally, write the following function:\n",
        "* `get_llc_rrc_features(parser_config, i)` <b>[6 points]</b>: Return word & POS features for $lc_1(lc_1(s_i))$ and $rc_1(rc_1(s_i))$. Additionally, return label features (the label ids) for the arcs that attach $lc_1(lc_1(s_i))$ to $lc_1(s_i)$ and $rc_1(rc_1(s_i))$ to $rc_1(s_i)$. As before, wherever a particular word does not exist, use the appropriate NULL token.\n",
        "\n",
        "We will call this function with `i=1` and `i=2`, accounting for the words $lc_1(lc_1(s_1))$, $lc_1(lc_1(s_2))$, $rc_1(rc_1(s_1))$, $rc_1(rc_1(s_2))$."
      ]
    },
    {
      "cell_type": "code",
      "execution_count": null,
      "metadata": {
        "id": "tbmTbX96hTAH"
      },
      "outputs": [],
      "source": [
        "def get_llc_rrc_features(parser_config, i):\n",
        "    '''\n",
        "    Get the word, POS, and label features for lc1(lc1(si)), and rc1(rc1(si)), where i in {1, 2}\n",
        "    Returns:\n",
        "        word_features: List of word ids for lc1(lc1(si)), and rc1(rc1(si)) (use vocab.WORD_NULL if a word does not exist)\n",
        "        pos_features: List of POS ids for lc1(lc1(si)), and rc1(rc1(si)) (use vocab.POS_NULL if a word does not exist)\n",
        "        label_features: List of label ids for lc1(lc1(si)), and rc1(rc1(si)) (use vocab.LABEL_NULL if a word does not exist)\n",
        "    '''\n",
        "    assert i in {1,2}\n",
        "    word_features, pos_features, label_features = [parser_config.vocab.WORD_NULL]*2, [parser_config.vocab.POS_NULL]*2, [parser_config.vocab.LABEL_NULL]*2\n",
        "\n",
        "    ### TODO ###\n",
        "    return None, None, None"
      ]
    },
    {
      "cell_type": "code",
      "execution_count": null,
      "metadata": {
        "id": "ZDUzEcbif-pB"
      },
      "outputs": [],
      "source": [
        "if __name__ == '__main__':\n",
        "    sanityCheck(get_llc_rrc_features, i=1, to_print='incorrect', do_raise=True) # call with i=1"
      ]
    },
    {
      "cell_type": "code",
      "execution_count": null,
      "metadata": {
        "id": "ORCiIHAugC_a"
      },
      "outputs": [],
      "source": [
        "if __name__ == '__main__':\n",
        "    sanityCheck(get_llc_rrc_features, i=2, to_print='incorrect', do_raise=True) # call with i=2"
      ]
    },
    {
      "cell_type": "markdown",
      "metadata": {
        "id": "PDtGiNmJiAXI"
      },
      "source": [
        "We provide you with a function `extract_features(parser_config)` that calls each of these functions and returns a list of the 48 total features. You do <b>not</b> need to edit this function."
      ]
    },
    {
      "cell_type": "code",
      "execution_count": null,
      "metadata": {
        "id": "OFC1coWRiBHK"
      },
      "outputs": [],
      "source": [
        "### DO NOT EDIT ###\n",
        "\n",
        "def extract_features(parser_config): # for both train & inference\n",
        "    word_features, pos_features, label_features = [], [], []\n",
        "\n",
        "    # 1. Get word & pos features for s1, s2, and s3\n",
        "    (x, y) = get_top3_stack_features(parser_config)\n",
        "    word_features, pos_features = word_features + x, pos_features + y\n",
        "\n",
        "\n",
        "    # 2. Get word & pos features for b1, b2, and b3\n",
        "    (x, y) = get_top3_buffer_features(parser_config)\n",
        "    word_features, pos_features = word_features + x, pos_features + y\n",
        "\n",
        "\n",
        "    # 3. Get word & pos & label features for lc1(s1), lc1(s2), lc2(s1), lc2(s2)\n",
        "    (x, y, z) = get_lc1_lc2_features(parser_config, 1)\n",
        "    word_features, pos_features, label_features = word_features + x, pos_features + y, label_features + z\n",
        "\n",
        "    (x, y, z) = get_lc1_lc2_features(parser_config, 2)\n",
        "    word_features, pos_features, label_features = word_features + x, pos_features + y, label_features + z\n",
        "\n",
        "\n",
        "    # 4. Get word & pos & label features for rc1(s1), rc1(s2), rc2(s1), rc2(s2)\n",
        "    (x, y, z) = get_rc1_rc2_features(parser_config, 1)\n",
        "    word_features, pos_features, label_features = word_features + x, pos_features + y, label_features + z\n",
        "\n",
        "    (x, y, z) = get_rc1_rc2_features(parser_config, 2)\n",
        "    word_features, pos_features, label_features = word_features + x, pos_features + y, label_features + z\n",
        "\n",
        "\n",
        "    # 5. Get word & pos & label features for lc1(lc1(s1)), lc1(lc1(s2)), rc1(rc1(s1)), rc1(rc1(s2))\n",
        "    (x, y, z) = get_llc_rrc_features(parser_config, 1)\n",
        "    word_features, pos_features, label_features = word_features + x, pos_features + y, label_features + z\n",
        "\n",
        "    (x, y, z) = get_llc_rrc_features(parser_config, 2)\n",
        "    word_features, pos_features, label_features = word_features + x, pos_features + y, label_features + z\n",
        "\n",
        "\n",
        "    features = word_features + pos_features + label_features\n",
        "    assert len(features) == 48\n",
        "    return features"
      ]
    },
    {
      "cell_type": "markdown",
      "metadata": {
        "id": "nKQjo2XLto5x"
      },
      "source": [
        "Run the following cell as a sanity check for `generate_training_examples(..., feat_extract=extract_features)` (i.e., to make sure that you can generate training examples with the correct feature extraction function)."
      ]
    },
    {
      "cell_type": "code",
      "execution_count": null,
      "metadata": {
        "id": "60fGbLutt7cF"
      },
      "outputs": [],
      "source": [
        "if __name__ == '__main__':\n",
        "    sanityCheck_generate_training_examples(generate_training_examples, extract_features, to_print='incorrect', do_raise=True)"
      ]
    },
    {
      "cell_type": "markdown",
      "metadata": {
        "id": "SNkhguSo8yHG"
      },
      "source": [
        "# Step 4: Dataset & Model [16 points]\n",
        "\n",
        "Now we can go ahead and define our Pytorch `Dataset` class as well as our model."
      ]
    },
    {
      "cell_type": "code",
      "execution_count": null,
      "metadata": {
        "id": "jhZI1awMYnRC"
      },
      "outputs": [],
      "source": [
        "### DO NOT EDIT ###\n",
        "\n",
        "import torch\n",
        "import torch.nn as nn\n",
        "import torch.nn.functional as F"
      ]
    },
    {
      "cell_type": "markdown",
      "metadata": {
        "id": "S6XT_3EgL1LX"
      },
      "source": [
        "## Instantiate Dataset\n",
        "\n",
        "As in previous homeworks, we create a Pytorch `Dataset`, which we will use to feed our training data to the model. You do <b>not</b> need to edit this cell."
      ]
    },
    {
      "cell_type": "code",
      "execution_count": null,
      "metadata": {
        "id": "PRCHWOA7ykDK"
      },
      "outputs": [],
      "source": [
        "### DO NOT EDIT ###\n",
        "\n",
        "class TrainDataset(torch.utils.data.Dataset):\n",
        "    def __init__(self, data, vocab):\n",
        "        self.X = np.array([d[0] for d in data])\n",
        "        self.y = np.array([vocab.tran2id[d[1]] for d in data])\n",
        "\n",
        "    def __getitem__(self, index):\n",
        "        return self.X[index], self.y[index]\n",
        "\n",
        "    def __len__(self):\n",
        "        return len(self.X)"
      ]
    },
    {
      "cell_type": "markdown",
      "metadata": {
        "id": "RMBTW1xXL5nu"
      },
      "source": [
        "## <font color='red'>TODO</font>: Define Model [16 points]\n",
        "\n",
        "Here you will write the `__init(...)__` and `forward(...)` methods of a feed-forward network, each of which is worth <b>8 points</b>. Your network should have an embedding layer, a single hidden layer, and an output layer. The `forward(...)` method will take in the features you have extracted from the parser configuration and predict the next parser action."
      ]
    },
    {
      "cell_type": "code",
      "execution_count": null,
      "metadata": {
        "id": "3xauK8678zfh"
      },
      "outputs": [],
      "source": [
        "class Model(nn.Module):\n",
        "    def __init__(self, num_embeddings, embed_size, n_features, hidden_size, n_classes, dropout_prob):\n",
        "        '''\n",
        "        Initialize the weights of feed-forward neural network.\n",
        "        Args:\n",
        "            num_embeddings: Number of embedding vectors in embedding layer (int)\n",
        "            embed_size: Size of the embedding vectors in embedding layer (int)\n",
        "            n_features: Number of features in the input to the model (int)\n",
        "            hidden_size: Hidden size (int)\n",
        "            n_classes: Number of classes in output (int)\n",
        "            dropout_prob: Probability of dropout (float)\n",
        "        '''\n",
        "        super(Model, self).__init__()\n",
        "\n",
        "        ### TODO ###\n",
        "        # Initialize embedding layer\n",
        "        # Initialize a linear layer that maps the (concatenated) embeddings to a single vector of size hidden_size\n",
        "        # Create a dropout layer with dropout_prob\n",
        "        # Initialize a linear layer that maps the hidden vector to the number of output classes\n",
        "\n",
        "        pass\n",
        "\n",
        "\n",
        "    def forward(self, x):\n",
        "        '''\n",
        "        This function predicts the next parser action, given the features extracted from the current parser state.\n",
        "        Inputs:\n",
        "             x: input features, [batch_size, n_features]\n",
        "        Returns:\n",
        "            logits: [batch_size, n_classes]\n",
        "        Pseudocode:\n",
        "            (1) Obtain embedding vectors for your input\n",
        "                    - Output size: [batch_size, n_features * embed_size]\n",
        "            (2) Pass the result through the first linear layer and apply ReLU activation\n",
        "            (3) Apply dropout\n",
        "            (4) Pass the result through the final linear layer and return its output (do NOT call softmax!)\n",
        "                    - Output size: [batch_size, n_classes]\n",
        "        '''\n",
        "\n",
        "        ### TODO ###\n",
        "        return None"
      ]
    },
    {
      "cell_type": "markdown",
      "metadata": {
        "id": "pu53edie0l7V"
      },
      "source": [
        "The code below runs a sanity check for your model class. The tests are similar to the hidden ones in Gradescope. However, note that passing the sanity check does <b>not</b> guarantee that you will pass the autograder; it is intended to help you debug."
      ]
    },
    {
      "cell_type": "code",
      "execution_count": null,
      "metadata": {
        "id": "efptBVuXNAJ9"
      },
      "outputs": [],
      "source": [
        "### DO NOT EDIT ###\n",
        "\n",
        "if __name__ == '__main__':\n",
        "    # Test init\n",
        "    inputs = [{'num_embeddings': 1000, 'embed_size': 16, 'n_features': 32, 'hidden_size': 32, 'dropout_prob': 0, 'n_classes': 2}, {'num_embeddings': 1000, 'embed_size': 16, 'n_features': 32, 'hidden_size': 32, 'dropout_prob': 0, 'n_classes': 3}, {'num_embeddings': 1000, 'embed_size': 16, 'n_features': 32, 'hidden_size': 32, 'dropout_prob': 0, 'n_classes': 2}, {'num_embeddings': 1000, 'embed_size': 16, 'n_features': 32, 'hidden_size': 32, 'dropout_prob': 0, 'n_classes': 3}, {'num_embeddings': 1000, 'embed_size': 16, 'n_features': 32, 'hidden_size': 32, 'dropout_prob': 0, 'n_classes': 2}, {'num_embeddings': 1000, 'embed_size': 16, 'n_features': 32, 'hidden_size': 32, 'dropout_prob': 0, 'n_classes': 3}, {'num_embeddings': 1000, 'embed_size': 16, 'n_features': 32, 'hidden_size': 32, 'dropout_prob': 0, 'n_classes': 2}, {'num_embeddings': 1000, 'embed_size': 16, 'n_features': 32, 'hidden_size': 32, 'dropout_prob': 0, 'n_classes': 3}, {'num_embeddings': 1000, 'embed_size': 16, 'n_features': 128, 'hidden_size': 256, 'dropout_prob': 0, 'n_classes': 2}, {'num_embeddings': 1000, 'embed_size': 16, 'n_features': 128, 'hidden_size': 256, 'dropout_prob': 0, 'n_classes': 3}, {'num_embeddings': 1000, 'embed_size': 16, 'n_features': 128, 'hidden_size': 256, 'dropout_prob': 0, 'n_classes': 2}, {'num_embeddings': 1000, 'embed_size': 16, 'n_features': 128, 'hidden_size': 256, 'dropout_prob': 0, 'n_classes': 3}, {'num_embeddings': 1000, 'embed_size': 16, 'n_features': 128, 'hidden_size': 256, 'dropout_prob': 0, 'n_classes': 2}, {'num_embeddings': 1000, 'embed_size': 16, 'n_features': 128, 'hidden_size': 256, 'dropout_prob': 0, 'n_classes': 3}, {'num_embeddings': 1000, 'embed_size': 16, 'n_features': 128, 'hidden_size': 256, 'dropout_prob': 0, 'n_classes': 2}, {'num_embeddings': 1000, 'embed_size': 16, 'n_features': 128, 'hidden_size': 256, 'dropout_prob': 0, 'n_classes': 3}, {'num_embeddings': 1000, 'embed_size': 32, 'n_features': 32, 'hidden_size': 32, 'dropout_prob': 0, 'n_classes': 2}, {'num_embeddings': 1000, 'embed_size': 32, 'n_features': 32, 'hidden_size': 32, 'dropout_prob': 0, 'n_classes': 3}, {'num_embeddings': 1000, 'embed_size': 32, 'n_features': 32, 'hidden_size': 32, 'dropout_prob': 0, 'n_classes': 2}, {'num_embeddings': 1000, 'embed_size': 32, 'n_features': 32, 'hidden_size': 32, 'dropout_prob': 0, 'n_classes': 3}, {'num_embeddings': 1000, 'embed_size': 32, 'n_features': 32, 'hidden_size': 32, 'dropout_prob': 0, 'n_classes': 2}, {'num_embeddings': 1000, 'embed_size': 32, 'n_features': 32, 'hidden_size': 32, 'dropout_prob': 0, 'n_classes': 3}, {'num_embeddings': 1000, 'embed_size': 32, 'n_features': 32, 'hidden_size': 32, 'dropout_prob': 0, 'n_classes': 2}, {'num_embeddings': 1000, 'embed_size': 32, 'n_features': 32, 'hidden_size': 32, 'dropout_prob': 0, 'n_classes': 3}, {'num_embeddings': 1000, 'embed_size': 32, 'n_features': 128, 'hidden_size': 256, 'dropout_prob': 0, 'n_classes': 2}, {'num_embeddings': 1000, 'embed_size': 32, 'n_features': 128, 'hidden_size': 256, 'dropout_prob': 0, 'n_classes': 3}, {'num_embeddings': 1000, 'embed_size': 32, 'n_features': 128, 'hidden_size': 256, 'dropout_prob': 0, 'n_classes': 2}, {'num_embeddings': 1000, 'embed_size': 32, 'n_features': 128, 'hidden_size': 256, 'dropout_prob': 0, 'n_classes': 3}, {'num_embeddings': 1000, 'embed_size': 32, 'n_features': 128, 'hidden_size': 256, 'dropout_prob': 0, 'n_classes': 2}, {'num_embeddings': 1000, 'embed_size': 32, 'n_features': 128, 'hidden_size': 256, 'dropout_prob': 0, 'n_classes': 3}, {'num_embeddings': 1000, 'embed_size': 32, 'n_features': 128, 'hidden_size': 256, 'dropout_prob': 0, 'n_classes': 2}, {'num_embeddings': 1000, 'embed_size': 32, 'n_features': 128, 'hidden_size': 256, 'dropout_prob': 0, 'n_classes': 3}]\n",
        "    expected_outputs = [32482,32515,32482,32515,32482,32515,32482,32515,541058,541315,541058,541315,541058,541315,541058,541315,64866,64899,64866,64899,64866,64899,64866,64899,1081346,1081603,1081346,1081603,1081346,1081603,1081346,1081603]\n",
        "\n",
        "    sanityCheckModel(inputs, Model, expected_outputs, \"init\")\n",
        "    print()\n",
        "\n",
        "    # Test forward\n",
        "    forward_inputs = [{'num_embeddings': 1000, 'embed_size': 8, 'n_features': 32, 'hidden_size': 100, 'dropout_prob': 0, 'n_classes': 40}, {'num_embeddings': 1000, 'embed_size': 8, 'n_features': 32, 'hidden_size': 100, 'dropout_prob': 0, 'n_classes': 80}, {'num_embeddings': 1000, 'embed_size': 8, 'n_features': 32, 'hidden_size': 200, 'dropout_prob': 0, 'n_classes': 40}, {'num_embeddings': 1000, 'embed_size': 8, 'n_features': 32, 'hidden_size': 200, 'dropout_prob': 0, 'n_classes': 80}, {'num_embeddings': 1000, 'embed_size': 8, 'n_features': 64, 'hidden_size': 100, 'dropout_prob': 0, 'n_classes': 40}, {'num_embeddings': 1000, 'embed_size': 8, 'n_features': 64, 'hidden_size': 100, 'dropout_prob': 0, 'n_classes': 80}, {'num_embeddings': 1000, 'embed_size': 8, 'n_features': 64, 'hidden_size': 200, 'dropout_prob': 0, 'n_classes': 40}, {'num_embeddings': 1000, 'embed_size': 8, 'n_features': 64, 'hidden_size': 200, 'dropout_prob': 0, 'n_classes': 80}, {'num_embeddings': 1000, 'embed_size': 16, 'n_features': 32, 'hidden_size': 100, 'dropout_prob': 0, 'n_classes': 40}, {'num_embeddings': 1000, 'embed_size': 16, 'n_features': 32, 'hidden_size': 100, 'dropout_prob': 0, 'n_classes': 80}, {'num_embeddings': 1000, 'embed_size': 16, 'n_features': 32, 'hidden_size': 200, 'dropout_prob': 0, 'n_classes': 40}, {'num_embeddings': 1000, 'embed_size': 16, 'n_features': 32, 'hidden_size': 200, 'dropout_prob': 0, 'n_classes': 80}, {'num_embeddings': 1000, 'embed_size': 16, 'n_features': 64, 'hidden_size': 100, 'dropout_prob': 0, 'n_classes': 40}, {'num_embeddings': 1000, 'embed_size': 16, 'n_features': 64, 'hidden_size': 100, 'dropout_prob': 0, 'n_classes': 80}, {'num_embeddings': 1000, 'embed_size': 16, 'n_features': 64, 'hidden_size': 200, 'dropout_prob': 0, 'n_classes': 40}, {'num_embeddings': 1000, 'embed_size': 16, 'n_features': 64, 'hidden_size': 200, 'dropout_prob': 0, 'n_classes': 80}, {'num_embeddings': 1000, 'embed_size': 8, 'n_features': 32, 'hidden_size': 100, 'dropout_prob': 0, 'n_classes': 40}, {'num_embeddings': 1000, 'embed_size': 8, 'n_features': 32, 'hidden_size': 100, 'dropout_prob': 0, 'n_classes': 80}, {'num_embeddings': 1000, 'embed_size': 8, 'n_features': 32, 'hidden_size': 200, 'dropout_prob': 0, 'n_classes': 40}, {'num_embeddings': 1000, 'embed_size': 8, 'n_features': 32, 'hidden_size': 200, 'dropout_prob': 0, 'n_classes': 80}, {'num_embeddings': 1000, 'embed_size': 8, 'n_features': 64, 'hidden_size': 100, 'dropout_prob': 0, 'n_classes': 40}, {'num_embeddings': 1000, 'embed_size': 8, 'n_features': 64, 'hidden_size': 100, 'dropout_prob': 0, 'n_classes': 80}, {'num_embeddings': 1000, 'embed_size': 8, 'n_features': 64, 'hidden_size': 200, 'dropout_prob': 0, 'n_classes': 40}, {'num_embeddings': 1000, 'embed_size': 8, 'n_features': 64, 'hidden_size': 200, 'dropout_prob': 0, 'n_classes': 80}, {'num_embeddings': 1000, 'embed_size': 16, 'n_features': 32, 'hidden_size': 100, 'dropout_prob': 0, 'n_classes': 40}, {'num_embeddings': 1000, 'embed_size': 16, 'n_features': 32, 'hidden_size': 100, 'dropout_prob': 0, 'n_classes': 80}, {'num_embeddings': 1000, 'embed_size': 16, 'n_features': 32, 'hidden_size': 200, 'dropout_prob': 0, 'n_classes': 40}, {'num_embeddings': 1000, 'embed_size': 16, 'n_features': 32, 'hidden_size': 200, 'dropout_prob': 0, 'n_classes': 80}, {'num_embeddings': 1000, 'embed_size': 16, 'n_features': 64, 'hidden_size': 100, 'dropout_prob': 0, 'n_classes': 40}, {'num_embeddings': 1000, 'embed_size': 16, 'n_features': 64, 'hidden_size': 100, 'dropout_prob': 0, 'n_classes': 80}, {'num_embeddings': 1000, 'embed_size': 16, 'n_features': 64, 'hidden_size': 200, 'dropout_prob': 0, 'n_classes': 40}, {'num_embeddings': 1000, 'embed_size': 16, 'n_features': 64, 'hidden_size': 200, 'dropout_prob': 0, 'n_classes': 80}]\n",
        "    expected_outputs = [torch.Size([1, 40]), torch.Size([1, 80]), torch.Size([1, 40]), torch.Size([1, 80]), torch.Size([1, 40]), torch.Size([1, 80]), torch.Size([1, 40]), torch.Size([1, 80]), torch.Size([1, 40]), torch.Size([1, 80]), torch.Size([1, 40]), torch.Size([1, 80]), torch.Size([1, 40]), torch.Size([1, 80]), torch.Size([1, 40]), torch.Size([1, 80]), torch.Size([4, 40]), torch.Size([4, 80]), torch.Size([4, 40]), torch.Size([4, 80]), torch.Size([4, 40]), torch.Size([4, 80]), torch.Size([4, 40]), torch.Size([4, 80]), torch.Size([4, 40]), torch.Size([4, 80]), torch.Size([4, 40]), torch.Size([4, 80]), torch.Size([4, 40]), torch.Size([4, 80]), torch.Size([4, 40]), torch.Size([4, 80])]\n",
        "    batch_sizes = [1] * (len(forward_inputs)//2) + [4] * (len(forward_inputs)//2)\n",
        "\n",
        "    sanityCheckModel(forward_inputs, Model, expected_outputs, \"forward\", batch_sizes)"
      ]
    },
    {
      "cell_type": "markdown",
      "metadata": {
        "id": "SV5ia_sDVF46"
      },
      "source": [
        "# Step 5: Train Model\n",
        "\n",
        "Finally, you are ready to train your model. We provide you with all the code you need to train it, so you do <b>not</b> need to edit any code in this section."
      ]
    },
    {
      "cell_type": "code",
      "execution_count": null,
      "metadata": {
        "id": "bBQPrzlUUXXw"
      },
      "outputs": [],
      "source": [
        "### DO NOT EDIT ###\n",
        "\n",
        "import math\n",
        "from torch import optim\n",
        "from tqdm.notebook import tqdm\n",
        "import time"
      ]
    },
    {
      "cell_type": "markdown",
      "metadata": {
        "id": "g-cnEwKKipWv"
      },
      "source": [
        "First, we read in the training dataset, create training examples, extract features, and instantiate the Pytorch `Dataset`."
      ]
    },
    {
      "cell_type": "code",
      "execution_count": null,
      "metadata": {
        "id": "n6Gbj4YT3TJH"
      },
      "outputs": [],
      "source": [
        "### DO NOT EDIT ###\n",
        "\n",
        "def prepare_data(train_name='train', test_name='test'):\n",
        "\n",
        "    train_set, test_set = load_data()\n",
        "\n",
        "    vocab = Vocabulary(train_set)\n",
        "    vocab.printStats()\n",
        "    print()\n",
        "\n",
        "    train_set = vocab.buildSentences(train_set)\n",
        "    test_set = vocab.buildSentences(test_set)\n",
        "\n",
        "    train_examples = generate_all_training_examples(vocab, train_set, feat_extract=extract_features)\n",
        "\n",
        "    return vocab, train_examples, test_set\n",
        "\n",
        "if __name__== \"__main__\":\n",
        "    vocab, train_examples, test_data = prepare_data()\n",
        "    train_dataset = TrainDataset(train_examples, vocab)"
      ]
    },
    {
      "cell_type": "markdown",
      "metadata": {
        "id": "gXvJjaQf9jQE"
      },
      "source": [
        "We will train the neural network using cross-entropy loss."
      ]
    },
    {
      "cell_type": "code",
      "execution_count": null,
      "metadata": {
        "id": "trW8_LS0Abno"
      },
      "outputs": [],
      "source": [
        "### DO NOT EDIT ###\n",
        "\n",
        "def train_model(model, vocab, train_data_loader, optimizer, n_epochs, device):\n",
        "    loss_func = nn.CrossEntropyLoss()\n",
        "    for epoch in range(n_epochs):\n",
        "        start = time.time()\n",
        "        n_batch = 0\n",
        "        total_loss = 0\n",
        "        model.train()\n",
        "        for train_x, train_y in tqdm(train_data_loader):\n",
        "            optimizer.zero_grad()\n",
        "            train_x = train_x.to(device)\n",
        "            train_y = train_y.to(device)\n",
        "            logits = model(train_x)\n",
        "            loss = loss_func(logits, train_y)\n",
        "            loss.backward()\n",
        "            optimizer.step()\n",
        "\n",
        "            total_loss +=  loss.item()\n",
        "            n_batch += 1\n",
        "\n",
        "        print('Epoch:{:2d}/{}\\t Loss: {:.4f} \\t({:.2f}s)'.format(epoch + 1, n_epochs, total_loss / n_batch, time.time() - start))"
      ]
    },
    {
      "cell_type": "markdown",
      "metadata": {
        "id": "e_6UjiDY91sd"
      },
      "source": [
        "Next we instantiate the model and an <a href=https://jmlr.org/papers/volume12/duchi11a/duchi11a.pdf>Adagrad</a> optimizer. As with other homeworks, you are free to change the hyperparameters, though you should not need to."
      ]
    },
    {
      "cell_type": "code",
      "execution_count": null,
      "metadata": {
        "id": "PXSquloq0-yl"
      },
      "outputs": [],
      "source": [
        "if __name__ == \"__main__\":\n",
        "    # HYPERPARAMETERS - Feel free to change\n",
        "    BATCH_SIZE = 1024\n",
        "    LEARNING_RATE = 0.01\n",
        "    N_EPOCHS = 10\n",
        "    HIDDEN_SIZE = 300\n",
        "    DROPOUT_PROB = 0.1\n",
        "    EMBED_SIZE = 100\n",
        "    WEIGHT_DECAY = 1e-8\n",
        "    N_EMBEDDINGS = vocab.n_tokens # Do not change!\n",
        "    N_FEATURES = 48 # Do not change!\n",
        "    N_CLASSES = vocab.n_trans # Do not change!\n",
        "\n",
        "    device = torch.device('cuda' if torch.cuda.is_available() else 'cpu')\n",
        "\n",
        "    train_data_loader = torch.utils.data.DataLoader(train_dataset, batch_size=BATCH_SIZE, drop_last=True, shuffle=True)\n",
        "    model = Model(N_EMBEDDINGS, EMBED_SIZE, N_FEATURES, HIDDEN_SIZE, N_CLASSES, DROPOUT_PROB).to(device)\n",
        "    optimizer = optim.Adagrad(model.parameters(), lr=LEARNING_RATE, weight_decay=WEIGHT_DECAY)"
      ]
    },
    {
      "cell_type": "markdown",
      "metadata": {
        "id": "c9ta0IRdi4_w"
      },
      "source": [
        "Run the cell below to train the model."
      ]
    },
    {
      "cell_type": "code",
      "execution_count": null,
      "metadata": {
        "id": "5QJYewzf1BcX"
      },
      "outputs": [],
      "source": [
        "### DO NOT EDIT ###\n",
        "\n",
        "if __name__=='__main__':\n",
        "    train_model(model, vocab, train_data_loader, optimizer, N_EPOCHS, device)"
      ]
    },
    {
      "cell_type": "markdown",
      "metadata": {
        "id": "mclt1pAO4Y-X"
      },
      "source": [
        "# Step 6: Evaluate Model [28 points]\n",
        "\n",
        "Now that you have a trained model, we can use it to parse unseen sentences from a test set."
      ]
    },
    {
      "cell_type": "markdown",
      "metadata": {
        "id": "8-0LcUAaGm_y"
      },
      "source": [
        "## <font color='red'>TODO</font>: Select Best Legal Prediction [8 points]\n",
        "We will provide you with a function that takes a (trained) model and a batch of parser configurations, and returns the highest probability prediction for each configuration.\n",
        "\n",
        "However, it is possible that the model will predict an illegal action. For example, the model may predict `S` (shift) when the buffer is empty, which is not a valid move. We certainly hope that the model will not do this, but we cannot guarantee this for an unseen sentence, and so have to account for the possibility at inference time.\n",
        "\n",
        "Thus, you should return the highest probability <b>legal</b> action for each parser configuration. Your job is to write a function `select_best_legal_action(parser_configs, predictions, n_labels)` that does exactly this. You have some flexibility in how you choose to implement this.\n",
        "\n",
        "<font color='green'>Here are some <b>hints</b>:\n",
        "* `predictions` is of size `[N, 2*n_labels+1]`, where `N=len(parser_configs)`. It contains the (unnormalized) probabilities for each action as output by the `forward(...)` method of your model.\n",
        "* Consider a single row of `predictions`. The first `n_labels` indices `[0,...,n_labels-1]` correspond to the various `LA-label` actions. The second `n_labels` indices `[n_labels,...,2*n_labels-1]` correspond to the `RA-label` actions. The very last index `2*n_labels` corresponds to the `S` action.\n",
        "* For each row of `predictions`, you will want to determine which actions are legal. <b>You will need to think about how to tell which actions are legal based on a parser configuration.</b> Once you know this, we suggest building a bit map of size `2*n_labels+1`, where an index contains a `1` if its corersponding action is legal and a `0` otherwise.\n",
        "* You can then select the best action by either masking out the illegal actions, or by multiplying your bit map by a large number and adding it to the probabilities, so that the `argmax` operation can only return a legal index.\n",
        "* When thinking about which actions are legal, you do not need to worry about whether certain labels should be allowed or not. You just need to focus on when `LA`, `RA`, and `S` are allowed (regardless of whether a particular label makes sense on a particular `LA` or `RA` arc).</font>\n",
        "\n",
        "This function is worth <b>8 points</b>, and there is no partial credit."
      ]
    },
    {
      "cell_type": "code",
      "execution_count": null,
      "metadata": {
        "id": "pSDzMZZHsDWO"
      },
      "outputs": [],
      "source": [
        "def select_best_legal_action(parser_configs, predictions, n_labels):\n",
        "    '''\n",
        "    Returns the highest probability **legal** prediction for each parser configuration.\n",
        "    Inputs:\n",
        "        parser_configs: list of parser configurations of length N\n",
        "        predictions: np.array of size [N, 2*n_labels + 1]\n",
        "        n_labels: int, the number of labels in our model\n",
        "    Returns:\n",
        "        preds: np.array of length N, containing the indices of the highest probability legal action for each example\n",
        "    '''\n",
        "    preds = np.argmax(predictions, axis = 1) # Change this! This selects the highest probability action, regardless of legality.\n",
        "\n",
        "    ### TODO ###\n",
        "    return preds"
      ]
    },
    {
      "cell_type": "markdown",
      "metadata": {
        "id": "7-yJnqOu4_bp"
      },
      "source": [
        "Now we provide you with a function that takes a (trained) model and makes the best legal prediction for a batch of parser configurations. You do <b>not</b> need to edit this cell."
      ]
    },
    {
      "cell_type": "code",
      "execution_count": null,
      "metadata": {
        "id": "YrDAfdLEwGoU"
      },
      "outputs": [],
      "source": [
        "### DO NOT EDIT ###\n",
        "\n",
        "def predict(model, vocab, parser_configs):\n",
        "    '''\n",
        "    Predicts the next transition for each ParserConfiguration in the batch (`parsers`).\n",
        "    '''\n",
        "    model_device = next(model.parameters()).device\n",
        "\n",
        "    x = np.array([extract_features(p) for p in parser_configs])\n",
        "    x = torch.from_numpy(x).long().to(model_device)\n",
        "\n",
        "    with torch.no_grad():\n",
        "        pred = model(x)\n",
        "\n",
        "    pred = pred.detach().cpu().numpy()\n",
        "    pred = select_best_legal_action(parser_configs, pred, vocab.n_labels)\n",
        "    actions = [vocab.id2tran[p] for p in pred]\n",
        "    return actions"
      ]
    },
    {
      "cell_type": "markdown",
      "metadata": {
        "id": "76nx_Dp05RJI"
      },
      "source": [
        "## Test Set Attachment Score [20 points]\n",
        "\n",
        "The following functions use your model to parse all sentences in the test set, and compute the attachment score. The <b>unlabeled attachment score</b> is the percentage of arcs in the test set for which your model gets the head correct. The <b>labeled attachment score</b> is the percentage of arcs for which your model gets <em>both</em> the head and the label correct. Thus, attachment score is a number between 0 and 100, and a higher score is better.\n",
        "\n",
        "You do <b>not</b> need to edit this cell."
      ]
    },
    {
      "cell_type": "code",
      "execution_count": null,
      "metadata": {
        "id": "MjE1uJm3kPvp"
      },
      "outputs": [],
      "source": [
        "### DO NOT EDIT ###\n",
        "\n",
        "def run_inference(sentences, model, vocab, batch_size=2000):\n",
        "    '''\n",
        "    Infers the dependency parse for each sentence given a trained model.\n",
        "    '''\n",
        "    N = len(sentences)\n",
        "\n",
        "    # Initialize parser configs\n",
        "    parser_configs = [None] * N\n",
        "    for i in range(N):\n",
        "        sent = sentences[i]\n",
        "        parser_config = ParserConfiguration(sent, vocab)\n",
        "        parser_configs[i] = parser_config\n",
        "\n",
        "    parses_completed = [False] * N # Indicates whether a given parse is completed\n",
        "\n",
        "    while sum(parses_completed) != N:\n",
        "\n",
        "        # Get batch along with indices\n",
        "        batch_idxes = []\n",
        "        for idx in range(N):\n",
        "            if not parses_completed[idx]: batch_idxes.append(idx)\n",
        "            if len(batch_idxes) == batch_size: break\n",
        "        batch = [parser_configs[idx] for idx in batch_idxes]\n",
        "\n",
        "        # Make prediction, run a parse step, and check for completion\n",
        "        transitions = predict(model, vocab, batch)\n",
        "        for idx, parser, transition in zip(batch_idxes, batch, transitions):\n",
        "            parser.parse_step(transition)\n",
        "            if not parser.buffer.buffer and len(parser.stack.stack) == 1:\n",
        "                parses_completed[idx] = True\n",
        "\n",
        "    return [parser.dependencies for parser in parser_configs]\n",
        "\n",
        "def transform_to_head_label(dependencies):\n",
        "    head = [-1] * len(dependencies.arcs)\n",
        "    label = [-1] * len(dependencies.arcs)\n",
        "    for dep in dependencies.arcs:\n",
        "        head[dep.dependent.idx-1] = dep.head.idx\n",
        "        label[dep.dependent.idx-1] = dep.label_id\n",
        "    return head, label\n",
        "\n",
        "\n",
        "def evaluate(model, vocab, dataset, eval_batch_size=5000):\n",
        "    model.eval()\n",
        "    sentences = [x[0] for x in dataset]\n",
        "    gold_dependencies = [x[1] for x in dataset]\n",
        "    pred_dependencies = run_inference(sentences, model, vocab, eval_batch_size)\n",
        "\n",
        "    UAS, LAS = 0.0, 0.0\n",
        "\n",
        "    all_tokens = 0\n",
        "\n",
        "    for i in range(len(gold_dependencies)):\n",
        "        assert len(gold_dependencies[i].arcs) == len(pred_dependencies[i].arcs)\n",
        "\n",
        "        # Get gold answers\n",
        "        gold_head, gold_label = transform_to_head_label(gold_dependencies[i])\n",
        "\n",
        "        # Get predictions\n",
        "        pred_head, pred_label = transform_to_head_label(pred_dependencies[i])\n",
        "\n",
        "        assert len(gold_head) == len(pred_head) and len(gold_label) == len(pred_label)\n",
        "        assert -1 not in gold_head + gold_label + pred_head + pred_label\n",
        "\n",
        "        for pred_h, gold_h, pred_l, gold_l  in zip(pred_head, gold_head, pred_label, gold_label):\n",
        "            UAS += (1 if pred_h == gold_h else 0)\n",
        "            LAS += (1 if pred_h == gold_h and pred_l == gold_l else 0)\n",
        "            all_tokens += 1\n",
        "    return UAS / all_tokens * 100, LAS / all_tokens * 100, pred_dependencies"
      ]
    },
    {
      "cell_type": "markdown",
      "metadata": {
        "id": "0mr2pxizujT3"
      },
      "source": [
        "Run the following cell to calculate your attachment scores. You must achieve a <b>labeled attachment score</b> of <b>≥ 80%</b> for full credit. Bear in mind that Gradescope uses a different (hidden) test set, so results may be slightly different."
      ]
    },
    {
      "cell_type": "code",
      "execution_count": null,
      "metadata": {
        "id": "MNlTOYpX1dR2"
      },
      "outputs": [],
      "source": [
        "### DO NOT EDIT ###\n",
        "\n",
        "if __name__==\"__main__\":\n",
        "    UAS, LAS, test_predictions = evaluate(model, vocab, test_data)\n",
        "    print(\"Test Set Unlabeled Attachment Score:\", UAS)\n",
        "    print(\"Test Set Labeled Attachment Score:\", LAS)"
      ]
    },
    {
      "cell_type": "markdown",
      "metadata": {
        "id": "0MWQIBtq6mcp"
      },
      "source": [
        "## Qualitative Analysis\n",
        "\n",
        "This section allows you to analyze your model qualitatively to get a feel for the strengths and shortcomings of the model. You do <b>not</b> need to code anything in this section.\n",
        "\n",
        "Run the following cells to print some example sentences from the test set. For each sentence, it will display the gold (correct) dependency tree, the dependency tree predicted by your model, and a diagnostic of the gold tree. The diagnostic tree annotates the edges of the gold tree as follows:\n",
        "* ✓: Edges for which you predicted both the <b>correct head & label</b>\n",
        "* ⍻: Edges for which you predicted the <b>correct head but incorrect label</b>\n",
        "* ×: Edges that you do not have in your tree (i.e., you predicted the <b>incorrect head<b>)."
      ]
    },
    {
      "cell_type": "code",
      "execution_count": null,
      "metadata": {
        "id": "6xAISqedkfHW"
      },
      "outputs": [],
      "source": [
        "### DO NOT EDIT ###\n",
        "\n",
        "def diagnose(sentence, gold, pred):\n",
        "    word, pos = [x.word for x in sentence], [x.pos for x in sentence]\n",
        "    gold_head, gold_label = transform_to_head_label(gold)\n",
        "    pred_head, pred_label = transform_to_head_label(pred)\n",
        "    gold_label = [gold.vocab.id2tok[x][4:] for x in gold_label]\n",
        "    pred_label = [gold.vocab.id2tok[x][4:] for x in pred_label]\n",
        "\n",
        "    diff = [\"✓\"] * len(pred_head)\n",
        "    for i in range(len(pred_head)):\n",
        "        if gold_head[i]!=pred_head[i]: diff[i] = \"×\"\n",
        "        elif gold_label[i]!=pred_label[i]: diff[i] = \"⍻\"\n",
        "    unlabeled_score=sum([x in {\"✓\",\"⍻\"}  for x in diff]) / len(diff)\n",
        "    score=sum([x == \"✓\" for x in diff]) / len(diff)\n",
        "\n",
        "    print(\"Your dependency tree:\")\n",
        "    sent = {\"word\": word[1:], \"pos\": pos[1:], \"label\": pred_label, \"head\": pred_head}\n",
        "    display_sentence(sent)\n",
        "\n",
        "    print(\"Gold dependency tree:\")\n",
        "    sent[\"label\"], sent[\"head\"] = gold_label, gold_head\n",
        "    display_sentence(sent)\n",
        "\n",
        "    print(\"Diagnostic of the gold tree:\")\n",
        "    sent[\"label\"], sent[\"head\"] = diff, gold_head\n",
        "    display_sentence(sent)\n",
        "    print('Unlabeled Attachment Score for this sentence:', unlabeled_score*100)\n",
        "    print('Labeled Attachment Score for this sentence:', score*100, '\\n')\n",
        "\n",
        "def diagnose_sentences(idxes, data, preds, min_len, max_len, num_to_print=5):\n",
        "    print('-'*100, '\\n')\n",
        "    for i in random.sample(list(filter(lambda x: len(data[x][0]) >= min_len and len(data[x][0]) <= max_len, idxes)), num_to_print):\n",
        "        diagnose(data[i][0], data[i][1], preds[i])\n",
        "        print('-'*100, '\\n')"
      ]
    },
    {
      "cell_type": "code",
      "execution_count": null,
      "metadata": {
        "id": "6kpw4l1jqP3Z"
      },
      "outputs": [],
      "source": [
        "if __name__== '__main__':\n",
        "    MIN_SENT_LEN, MAX_SENT_LEN = 8, 17 # You can change this if you're interested in seeing shorter/longer sentences\n",
        "    idxes=list(range(len(test_data))) # Sample from all sentences\n",
        "    diagnose_sentences(idxes, test_data, test_predictions, MIN_SENT_LEN, MAX_SENT_LEN, num_to_print=5)"
      ]
    },
    {
      "cell_type": "markdown",
      "metadata": {
        "id": "nYKSWRO93Mjz"
      },
      "source": [
        "# What to Submit\n",
        "\n",
        "To submit the assignment, download this notebook as a <TT>.py</TT> file. You can do this by going to <TT>File > Download > Download .py</TT>. Then rename it to `hwk4.py`. <b>Do not try to submit it as a <TT>.ipynb</TT> file!</b>\n",
        "\n",
        "You will also need to save your trained `model`. You can run the cell below to do this. After you save the files to your Google Drive, you need to manually download the file to your computer, and then submit them to the autograder.\n",
        "\n",
        "You will submit the following files to the autograder:\n",
        "1.   `hwk4.py`, the download of this notebook as a `.py` file (**not** a `.ipynb` file)\n",
        "1.   `model.pt`, the saved version of your `model`"
      ]
    },
    {
      "cell_type": "code",
      "execution_count": null,
      "metadata": {
        "id": "R2Jnt32ItMA7"
      },
      "outputs": [],
      "source": [
        "### DO NOT EDIT ###\n",
        "\n",
        "import pickle\n",
        "\n",
        "if __name__=='__main__':\n",
        "    from google.colab import drive\n",
        "    drive.mount('/content/drive')\n",
        "    print()\n",
        "    print(\"Saving model....\")\n",
        "    torch.save(model, 'drive/My Drive/model.pt')\n",
        "    print(\"Saved!\")"
      ]
    }
  ],
  "metadata": {
    "accelerator": "GPU",
    "colab": {
      "provenance": [],
      "toc_visible": true,
      "include_colab_link": true
    },
    "kernelspec": {
      "display_name": "Python 3",
      "name": "python3"
    }
  },
  "nbformat": 4,
  "nbformat_minor": 0
}